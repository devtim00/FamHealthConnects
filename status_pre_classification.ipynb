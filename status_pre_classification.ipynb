{
 "cells": [
  {
   "cell_type": "code",
   "execution_count": 28,
   "metadata": {},
   "outputs": [],
   "source": [
    "import csv\n",
    "import re"
   ]
  },
  {
   "attachments": {},
   "cell_type": "markdown",
   "metadata": {},
   "source": [
    "Read CSV files"
   ]
  },
  {
   "cell_type": "code",
   "execution_count": 29,
   "metadata": {},
   "outputs": [
    {
     "data": {
      "text/plain": [
       "'Description'"
      ]
     },
     "execution_count": 29,
     "metadata": {},
     "output_type": "execute_result"
    }
   ],
   "source": [
    "#Create file variables\n",
    "full_dataset = \"temporary_datasets/final_dataset_cleaned.csv\"\n",
    "low_risk_data = \"temporary_datasets/low_risk_words.csv\"\n",
    "high_risk_data = \"temporary_datasets/high_risk_words.csv\"\n",
    "\n",
    "\n",
    "#Open csv files and save as list\n",
    "file = open(full_dataset,\"r\", encoding='utf-8')\n",
    "dataset = list(csv.reader(file,delimiter=\";\"))\n",
    "\n",
    "\n",
    "file = open(low_risk_data,\"r\", encoding='utf-8')\n",
    "low_risk_words = list(csv.reader(file,delimiter=\";\"))\n",
    "\n",
    "file = open(high_risk_data,\"r\", encoding='utf-8')\n",
    "high_risk_words = list(csv.reader(file,delimiter=\";\"))\n",
    "\n",
    "\n",
    "file.close()\n",
    "\n",
    "#Process dataset\n",
    "header = dataset[0]\n",
    "patient_description = [item[1] for item in dataset]\n",
    "\n",
    "rows = dataset[1:]\n",
    "patient_description.pop(0)\n",
    "\n"
   ]
  },
  {
   "attachments": {},
   "cell_type": "markdown",
   "metadata": {},
   "source": [
    "Convert list of list to list of strings"
   ]
  },
  {
   "cell_type": "code",
   "execution_count": 30,
   "metadata": {},
   "outputs": [],
   "source": [
    "low_risk_string = [str(item[0]) for item in low_risk_words]\n",
    "high_risk_string = [str(item[0]) for item in high_risk_words]"
   ]
  },
  {
   "attachments": {},
   "cell_type": "markdown",
   "metadata": {},
   "source": [
    "Functions"
   ]
  },
  {
   "cell_type": "code",
   "execution_count": 31,
   "metadata": {},
   "outputs": [],
   "source": [
    "def define_status(matches):\n",
    "    status = []\n",
    "    for item in matches:\n",
    "        if item[0] > item[1]:\n",
    "            status.append(\"low_risk\")\n",
    "        if item[0] < item[1]:\n",
    "            status.append(\"high_risk\")\n",
    "        if item[0] == item[1]:\n",
    "            status.append(\"high_risk\")\n",
    "    return status\n",
    "\n",
    "\n",
    "def count_words(sentences, list1, list2):\n",
    "    results = []\n",
    "    for sentence in sentences:\n",
    "        count_list1 = len(re.findall(r'\\b(?:{})\\b'.format('|'.join(map(re.escape, list1))), sentence))\n",
    "        count_list2 = len(re.findall(r'\\b(?:{})\\b'.format('|'.join(map(re.escape, list2))), sentence))\n",
    "        results.append([count_list1, count_list2])\n",
    "    return results\n",
    "\n",
    "def replace_values(sublists, values):\n",
    "    for sublist, value in zip(sublists, values):\n",
    "        if len(sublist) >= 4:\n",
    "            sublist[4] = value\n",
    "    return sublists"
   ]
  },
  {
   "cell_type": "code",
   "execution_count": 32,
   "metadata": {},
   "outputs": [],
   "source": [
    "matches = count_words(patient_description, low_risk_string, high_risk_string)\n",
    "\n",
    "#define status using function define_status(x) --> status = [[neutral], [high risk]]\n",
    "status = (define_status(matches)) \n",
    "\n",
    "result = replace_values(rows, status)\n"
   ]
  },
  {
   "cell_type": "code",
   "execution_count": 33,
   "metadata": {},
   "outputs": [],
   "source": [
    "with open('dataset_shakes_cakes.csv', 'w', encoding='UTF8', newline='') as f:\n",
    "    writer = csv.writer(f)\n",
    "\n",
    "    # write the header\n",
    "    writer.writerow(header)\n",
    "\n",
    "    # write multiple rows\n",
    "    writer.writerows(result)"
   ]
  }
 ],
 "metadata": {
  "kernelspec": {
   "display_name": "Python 3",
   "language": "python",
   "name": "python3"
  },
  "language_info": {
   "codemirror_mode": {
    "name": "ipython",
    "version": 3
   },
   "file_extension": ".py",
   "mimetype": "text/x-python",
   "name": "python",
   "nbconvert_exporter": "python",
   "pygments_lexer": "ipython3",
   "version": "3.11.1"
  },
  "orig_nbformat": 4
 },
 "nbformat": 4,
 "nbformat_minor": 2
}
