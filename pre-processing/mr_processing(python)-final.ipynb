{
 "cells": [
  {
   "cell_type": "code",
   "execution_count": 12,
   "metadata": {},
   "outputs": [],
   "source": [
    "#Imports\n",
    "\n",
    "import csv\n",
    "import re"
   ]
  },
  {
   "attachments": {},
   "cell_type": "markdown",
   "metadata": {},
   "source": [
    "Functions:"
   ]
  },
  {
   "cell_type": "code",
   "execution_count": 13,
   "metadata": {},
   "outputs": [],
   "source": [
    "#Functions\n",
    "def extract_sections(input_string):\n",
    "    \n",
    "    subjective_reg = r'SUBJECTIVE.*?(?=OBJECTIVE|ASSESSMENT|PLAN|$)'\n",
    "    objective_reg = r'OBJECTIVE.*?(?=SUBJECTIVE|ASSESSMENT|PLAN|$)'\n",
    "    assessment_reg = r'ASSESSMENT.*?(?=OBJECTIVE|SUBJECTIVE|PLAN|$)'\n",
    "    plan_reg = r'PLAN.*?(?=SUBJECTIVE|ASSESSMENT|OBJECTIVE|$)'\n",
    "\n",
    "    subjective_matches = re.findall(subjective_reg, input_string)\n",
    "    objective_matches = re.findall(objective_reg, input_string)\n",
    "    assessment_matches = re.findall(assessment_reg, input_string)\n",
    "    plan_matches = re.findall(plan_reg, input_string)\n",
    "\n",
    "    return subjective_matches, objective_matches, assessment_matches, plan_matches\n",
    "\n",
    "def remove_brackets(strings_list):\n",
    "    pattern = r'\\[|\\]'  # Regular expression pattern matching '[' or ']'\n",
    "    cleaned_list = [re.sub(pattern, '', string) for string in strings_list]\n",
    "    return cleaned_list\n",
    "\n",
    "def convert_nested_list_to_strings(lst):\n",
    "    strings_list = [str(sublist) if sublist else '' for sublist in lst]\n",
    "    return remove_brackets(strings_list)\n",
    "\n",
    "def add_lists(list1, list2):\n",
    "    list1.extend(list2)\n",
    "    return list1\n",
    "\n",
    "def process_transcription_semantics(transcription):\n",
    "    transcription = transcription.replace(\",\", \"\")\n",
    "    transcription = transcription.replace('\"', \"\")\n",
    "    transcription = transcription.replace(\"'\", \"\")\n",
    "    return transcription\n",
    "\n",
    "    "
   ]
  },
  {
   "attachments": {},
   "cell_type": "markdown",
   "metadata": {},
   "source": [
    "Main Part"
   ]
  },
  {
   "cell_type": "code",
   "execution_count": 14,
   "metadata": {},
   "outputs": [],
   "source": [
    "\n",
    "filename = \"temporary_datasets/final_dataset_raw.csv\"\n",
    "file = open(filename,\"r\", encoding='utf-8')\n",
    "data = list(csv.reader(file,delimiter=\";\"))\n",
    "file.close()\n",
    "\n",
    "\n",
    "#add SOAP headers\n",
    "header = data[0]\n",
    "header.extend(['Subjective', 'Objective', 'Assessment', 'Plan'])\n",
    "\n",
    "content = []\n",
    "output=[]\n",
    "full_row = []\n",
    "patient_id = []\n",
    "\n",
    "\n",
    "for sublist in data[1:]:\n",
    "\n",
    "    second_value = sublist[0:]\n",
    "    transcription = second_value[3]\n",
    "\n",
    "    patient_id = [second_value[0]]\n",
    "    description = [second_value[1]]\n",
    "    medical_speciality = [second_value[2]]\n",
    "\n",
    "    transcription = process_transcription_semantics(transcription)\n",
    "\n",
    "    sbj, obj, ass, plan = extract_sections(transcription)\n",
    "\n",
    "\n",
    "    if len(sbj) == 0:\n",
    "        sbj.append(\"NONE\")\n",
    "\n",
    "    if len(obj) == 0:\n",
    "        obj.append(\"NONE\")\n",
    "    \n",
    "    if len(ass) == 0:\n",
    "        ass.append(\"NONE\")\n",
    "\n",
    "    if len(plan) == 0:\n",
    "        plan.append(\"NONE\")\n",
    "\n",
    "\n",
    "\n",
    "    soap_notes = []\n",
    "    soap_notes.extend(sbj)\n",
    "    soap_notes.extend(obj)\n",
    "    soap_notes.extend(ass)\n",
    "    soap_notes.extend(plan)\n",
    "\n",
    "    \n",
    "    single_row = patient_id + description + medical_speciality + [second_value[3]] + soap_notes\n",
    "\n",
    "    full_row.append(single_row)\n",
    "\n",
    "\n",
    "\n",
    "\n",
    "\n",
    "\n",
    "\n",
    "\n",
    "\n",
    "\n",
    "\n",
    "\n"
   ]
  },
  {
   "attachments": {},
   "cell_type": "markdown",
   "metadata": {},
   "source": [
    "Write CSV file"
   ]
  },
  {
   "cell_type": "code",
   "execution_count": 15,
   "metadata": {},
   "outputs": [],
   "source": [
    "with open('temporary_datasets/final_dataset.csv', 'w', encoding='UTF8', newline='') as f:\n",
    "    writer = csv.writer(f)\n",
    "\n",
    "    # write the header\n",
    "    writer.writerow(header)\n",
    "\n",
    "    # write multiple rows\n",
    "    writer.writerows(full_row)"
   ]
  }
 ],
 "metadata": {
  "kernelspec": {
   "display_name": "Python 3",
   "language": "python",
   "name": "python3"
  },
  "language_info": {
   "codemirror_mode": {
    "name": "ipython",
    "version": 3
   },
   "file_extension": ".py",
   "mimetype": "text/x-python",
   "name": "python",
   "nbconvert_exporter": "python",
   "pygments_lexer": "ipython3",
   "version": "3.11.1"
  },
  "orig_nbformat": 4
 },
 "nbformat": 4,
 "nbformat_minor": 2
}
