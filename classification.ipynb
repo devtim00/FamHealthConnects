{
 "cells": [
  {
   "attachments": {},
   "cell_type": "markdown",
   "metadata": {},
   "source": [
    "# Import Libraries"
   ]
  },
  {
   "cell_type": "code",
   "execution_count": 1,
   "metadata": {},
   "outputs": [],
   "source": [
    "import gensim\n",
    "import numpy as np\n",
    "import pandas as pd\n",
    "from sklearn.model_selection import train_test_split\n",
    "from sklearn.metrics import confusion_matrix\n",
    "from sklearn.metrics import ConfusionMatrixDisplay\n",
    "from sklearn.metrics import precision_score, recall_score\n",
    "import matplotlib.pyplot as plt\n",
    "from sklearn.feature_extraction.text import CountVectorizer\n",
    "from sklearn.feature_extraction.text import TfidfVectorizer"
   ]
  },
  {
   "attachments": {},
   "cell_type": "markdown",
   "metadata": {},
   "source": [
    "# Data Processing\n"
   ]
  },
  {
   "attachments": {},
   "cell_type": "markdown",
   "metadata": {},
   "source": [
    "## Read Dataframe"
   ]
  },
  {
   "cell_type": "code",
   "execution_count": 2,
   "metadata": {},
   "outputs": [
    {
     "data": {
      "text/html": [
       "<div>\n",
       "<style scoped>\n",
       "    .dataframe tbody tr th:only-of-type {\n",
       "        vertical-align: middle;\n",
       "    }\n",
       "\n",
       "    .dataframe tbody tr th {\n",
       "        vertical-align: top;\n",
       "    }\n",
       "\n",
       "    .dataframe thead th {\n",
       "        text-align: right;\n",
       "    }\n",
       "</style>\n",
       "<table border=\"1\" class=\"dataframe\">\n",
       "  <thead>\n",
       "    <tr style=\"text-align: right;\">\n",
       "      <th></th>\n",
       "      <th>status</th>\n",
       "      <th>text</th>\n",
       "    </tr>\n",
       "  </thead>\n",
       "  <tbody>\n",
       "    <tr>\n",
       "      <th>0</th>\n",
       "      <td>low_risk</td>\n",
       "      <td>allergic rhinitis</td>\n",
       "    </tr>\n",
       "    <tr>\n",
       "      <th>1</th>\n",
       "      <td>high_risk</td>\n",
       "      <td>patient 56 year old female present bariatric surgery service body mass index 41 obesity relate c...</td>\n",
       "    </tr>\n",
       "    <tr>\n",
       "      <th>2</th>\n",
       "      <td>low_risk</td>\n",
       "      <td>patient status post lap band adjustment total 7 ml band tolerate water postprocedure come week a...</td>\n",
       "    </tr>\n",
       "    <tr>\n",
       "      <th>3</th>\n",
       "      <td>low_risk</td>\n",
       "      <td>abdominal cramp past 2 day 1 2 10 intensity performance status karnofsky score 100 continue work...</td>\n",
       "    </tr>\n",
       "    <tr>\n",
       "      <th>4</th>\n",
       "      <td>low_risk</td>\n",
       "      <td>uti.2 gerd.3 dysphagia.4 contraception consult</td>\n",
       "    </tr>\n",
       "  </tbody>\n",
       "</table>\n",
       "</div>"
      ],
      "text/plain": [
       "      status  \\\n",
       "0   low_risk   \n",
       "1  high_risk   \n",
       "2   low_risk   \n",
       "3   low_risk   \n",
       "4   low_risk   \n",
       "\n",
       "                                                                                                  text  \n",
       "0                                                                                    allergic rhinitis  \n",
       "1  patient 56 year old female present bariatric surgery service body mass index 41 obesity relate c...  \n",
       "2  patient status post lap band adjustment total 7 ml band tolerate water postprocedure come week a...  \n",
       "3  abdominal cramp past 2 day 1 2 10 intensity performance status karnofsky score 100 continue work...  \n",
       "4                                                       uti.2 gerd.3 dysphagia.4 contraception consult  "
      ]
     },
     "execution_count": 2,
     "metadata": {},
     "output_type": "execute_result"
    }
   ],
   "source": [
    "\n",
    "\n",
    "pd.set_option('display.max_colwidth', 100)\n",
    "\n",
    "assessments = pd.read_csv('data\\ml_data_spacy.csv', encoding='utf8')\n",
    "assessments.columns = [\"status\", \"text\"]\n",
    "assessments.head()"
   ]
  },
  {
   "attachments": {},
   "cell_type": "markdown",
   "metadata": {},
   "source": [
    "## Data Review"
   ]
  },
  {
   "cell_type": "code",
   "execution_count": 3,
   "metadata": {},
   "outputs": [
    {
     "name": "stdout",
     "output_type": "stream",
     "text": [
      "434\n",
      "Unique values in column: ['low_risk' 'high_risk']\n",
      "Value counts:\n",
      " high_risk    257\n",
      "low_risk     177\n",
      "Name: status, dtype: int64\n"
     ]
    },
    {
     "data": {
      "image/png": "[encoded data removed]",
      "text/plain": [
       "<Figure size 200x300 with 1 Axes>"
      ]
     },
     "metadata": {},
     "output_type": "display_data"
    }
   ],
   "source": [
    "status_data = assessments['status']\n",
    "\n",
    "unique_values = status_data.unique()\n",
    "value_counts = status_data.value_counts()\n",
    "\n",
    "plt.figure(figsize=(2, 3))  # Set the figure size to your desired dimensions\n",
    "\n",
    "print(status_data.size)\n",
    "print(\"Unique values in column:\", unique_values)\n",
    "print(\"Value counts:\\n\", value_counts)\n",
    "\n",
    "bar_plot = status_data.value_counts().plot(kind='bar')\n",
    "plt.xlabel('Values')\n",
    "plt.ylabel('Count')\n",
    "plt.title('Value Distribution')\n",
    "\n",
    "# Add value labels to the bars\n",
    "for i, count in enumerate(value_counts):\n",
    "    plt.text(i, count, str(count), ha='center', va='bottom')\n",
    "\n",
    "plt.tight_layout()  # Ensures all elements fit within the figure\n",
    "plt.show()\n"
   ]
  },
  {
   "attachments": {},
   "cell_type": "markdown",
   "metadata": {},
   "source": [
    "## Balance Dataset"
   ]
  },
  {
   "attachments": {},
   "cell_type": "markdown",
   "metadata": {},
   "source": [
    "To train a ml-model the dataset is balanced to avoid bias "
   ]
  },
  {
   "cell_type": "code",
   "execution_count": 4,
   "metadata": {},
   "outputs": [],
   "source": [
    "df=assessments\n",
    "\n",
    "# Count the occurrences of each value in the 'status' column\n",
    "status_counts = df['status'].value_counts()\n",
    "\n",
    "# Find the minimum count between 'low_risk' and 'high_risk' statuses\n",
    "min_count = min(status_counts['low_risk'], status_counts['high_risk'])\n",
    "\n",
    "# Separate the rows for each status\n",
    "low_risk_rows = df[df['status'] == 'low_risk'].sample(n=min_count, random_state=42)\n",
    "high_risk_rows = df[df['status'] == 'high_risk'].sample(n=min_count, random_state=42)\n",
    "\n",
    "# Concatenate the balanced rows\n",
    "balanced_df = pd.concat([low_risk_rows, high_risk_rows])\n",
    "\n",
    "# Shuffle the rows in the balanced DataFrame\n",
    "balanced_df = balanced_df.sample(frac=1, random_state=42).reset_index(drop=True)\n",
    "\n",
    "\n"
   ]
  },
  {
   "cell_type": "code",
   "execution_count": 5,
   "metadata": {},
   "outputs": [
    {
     "name": "stdout",
     "output_type": "stream",
     "text": [
      "Number of medical statements:  354\n",
      "----------------------------------------------------------------------\n",
      "Unique status labels: ['high_risk' 'low_risk']\n",
      "----------------------------------------------------------------------\n",
      "Value counts:\n",
      " high_risk    177\n",
      "low_risk     177\n",
      "Name: status, dtype: int64\n",
      "----------------------------------------------------------------------\n"
     ]
    },
    {
     "data": {
      "text/html": [
       "<div>\n",
       "<style scoped>\n",
       "    .dataframe tbody tr th:only-of-type {\n",
       "        vertical-align: middle;\n",
       "    }\n",
       "\n",
       "    .dataframe tbody tr th {\n",
       "        vertical-align: top;\n",
       "    }\n",
       "\n",
       "    .dataframe thead th {\n",
       "        text-align: right;\n",
       "    }\n",
       "</style>\n",
       "<table border=\"1\" class=\"dataframe\">\n",
       "  <thead>\n",
       "    <tr style=\"text-align: right;\">\n",
       "      <th></th>\n",
       "      <th>status</th>\n",
       "      <th>text</th>\n",
       "    </tr>\n",
       "  </thead>\n",
       "  <tbody>\n",
       "    <tr>\n",
       "      <th>0</th>\n",
       "      <td>high_risk</td>\n",
       "      <td>age relate macular degeneration category right great sign left).2 glaucoma suspect base disc app...</td>\n",
       "    </tr>\n",
       "    <tr>\n",
       "      <th>1</th>\n",
       "      <td>low_risk</td>\n",
       "      <td>history hyperlipidemia elevate triglyceride maintain gemfibrozil 600 b.i.d health maintenance is...</td>\n",
       "    </tr>\n",
       "    <tr>\n",
       "      <th>2</th>\n",
       "      <td>high_risk</td>\n",
       "      <td>acute renal failure probability secondary acute tubular necrosis sepsis significant hypotension ...</td>\n",
       "    </tr>\n",
       "    <tr>\n",
       "      <th>3</th>\n",
       "      <td>high_risk</td>\n",
       "      <td>sexual dysfunction</td>\n",
       "    </tr>\n",
       "    <tr>\n",
       "      <th>4</th>\n",
       "      <td>low_risk</td>\n",
       "      <td>patient disease life threaten currently cause moderately severe effect problem diagnosis 1 neuro...</td>\n",
       "    </tr>\n",
       "  </tbody>\n",
       "</table>\n",
       "</div>"
      ],
      "text/plain": [
       "      status  \\\n",
       "0  high_risk   \n",
       "1   low_risk   \n",
       "2  high_risk   \n",
       "3  high_risk   \n",
       "4   low_risk   \n",
       "\n",
       "                                                                                                  text  \n",
       "0  age relate macular degeneration category right great sign left).2 glaucoma suspect base disc app...  \n",
       "1  history hyperlipidemia elevate triglyceride maintain gemfibrozil 600 b.i.d health maintenance is...  \n",
       "2  acute renal failure probability secondary acute tubular necrosis sepsis significant hypotension ...  \n",
       "3                                                                                   sexual dysfunction  \n",
       "4  patient disease life threaten currently cause moderately severe effect problem diagnosis 1 neuro...  "
      ]
     },
     "execution_count": 5,
     "metadata": {},
     "output_type": "execute_result"
    }
   ],
   "source": [
    "balanced_status_data = balanced_df['status']\n",
    "\n",
    "unique_values = balanced_status_data.unique()\n",
    "value_counts = balanced_status_data.value_counts()\n",
    "print(\"Number of medical statements: \", balanced_status_data.size)\n",
    "print(\"-\"*70)\n",
    "print(\"Unique status labels:\", unique_values)\n",
    "print(\"-\"*70)\n",
    "print(\"Value counts:\\n\", value_counts)\n",
    "print(\"-\"*70)\n",
    "balanced_df.head()\n"
   ]
  },
  {
   "attachments": {},
   "cell_type": "markdown",
   "metadata": {},
   "source": [
    "## Data Tokenising & Cleaning"
   ]
  },
  {
   "attachments": {},
   "cell_type": "markdown",
   "metadata": {},
   "source": [
    "1) Tokenise data using built in cleaner of gensim (the loaded dataset has already been processed)\n",
    "\n",
    "2) map labels: low_risk = 0 / high_risk = 1"
   ]
  },
  {
   "cell_type": "code",
   "execution_count": 6,
   "metadata": {},
   "outputs": [
    {
     "data": {
      "text/html": [
       "<div>\n",
       "<style scoped>\n",
       "    .dataframe tbody tr th:only-of-type {\n",
       "        vertical-align: middle;\n",
       "    }\n",
       "\n",
       "    .dataframe tbody tr th {\n",
       "        vertical-align: top;\n",
       "    }\n",
       "\n",
       "    .dataframe thead th {\n",
       "        text-align: right;\n",
       "    }\n",
       "</style>\n",
       "<table border=\"1\" class=\"dataframe\">\n",
       "  <thead>\n",
       "    <tr style=\"text-align: right;\">\n",
       "      <th></th>\n",
       "      <th>status</th>\n",
       "      <th>text</th>\n",
       "      <th>text_clean</th>\n",
       "    </tr>\n",
       "  </thead>\n",
       "  <tbody>\n",
       "    <tr>\n",
       "      <th>0</th>\n",
       "      <td>1</td>\n",
       "      <td>age relate macular degeneration category right great sign left).2 glaucoma suspect base disc app...</td>\n",
       "      <td>[age, relate, macular, degeneration, category, right, great, sign, left, glaucoma, suspect, base...</td>\n",
       "    </tr>\n",
       "    <tr>\n",
       "      <th>1</th>\n",
       "      <td>0</td>\n",
       "      <td>history hyperlipidemia elevate triglyceride maintain gemfibrozil 600 b.i.d health maintenance is...</td>\n",
       "      <td>[history, hyperlipidemia, elevate, triglyceride, maintain, gemfibrozil, health, maintenance, iss...</td>\n",
       "    </tr>\n",
       "    <tr>\n",
       "      <th>2</th>\n",
       "      <td>1</td>\n",
       "      <td>acute renal failure probability secondary acute tubular necrosis sepsis significant hypotension ...</td>\n",
       "      <td>[acute, renal, failure, probability, secondary, acute, tubular, necrosis, sepsis, significant, h...</td>\n",
       "    </tr>\n",
       "    <tr>\n",
       "      <th>3</th>\n",
       "      <td>1</td>\n",
       "      <td>sexual dysfunction</td>\n",
       "      <td>[sexual, dysfunction]</td>\n",
       "    </tr>\n",
       "    <tr>\n",
       "      <th>4</th>\n",
       "      <td>0</td>\n",
       "      <td>patient disease life threaten currently cause moderately severe effect problem diagnosis 1 neuro...</td>\n",
       "      <td>[patient, disease, life, threaten, currently, cause, moderately, severe, effect, problem, diagno...</td>\n",
       "    </tr>\n",
       "  </tbody>\n",
       "</table>\n",
       "</div>"
      ],
      "text/plain": [
       "   status  \\\n",
       "0       1   \n",
       "1       0   \n",
       "2       1   \n",
       "3       1   \n",
       "4       0   \n",
       "\n",
       "                                                                                                  text  \\\n",
       "0  age relate macular degeneration category right great sign left).2 glaucoma suspect base disc app...   \n",
       "1  history hyperlipidemia elevate triglyceride maintain gemfibrozil 600 b.i.d health maintenance is...   \n",
       "2  acute renal failure probability secondary acute tubular necrosis sepsis significant hypotension ...   \n",
       "3                                                                                   sexual dysfunction   \n",
       "4  patient disease life threaten currently cause moderately severe effect problem diagnosis 1 neuro...   \n",
       "\n",
       "                                                                                            text_clean  \n",
       "0  [age, relate, macular, degeneration, category, right, great, sign, left, glaucoma, suspect, base...  \n",
       "1  [history, hyperlipidemia, elevate, triglyceride, maintain, gemfibrozil, health, maintenance, iss...  \n",
       "2  [acute, renal, failure, probability, secondary, acute, tubular, necrosis, sepsis, significant, h...  \n",
       "3                                                                                [sexual, dysfunction]  \n",
       "4  [patient, disease, life, threaten, currently, cause, moderately, severe, effect, problem, diagno...  "
      ]
     },
     "execution_count": 6,
     "metadata": {},
     "output_type": "execute_result"
    }
   ],
   "source": [
    "# Clean data using the built in cleaner in gensim\n",
    "balanced_df['text_clean'] = balanced_df['text'].apply(lambda x: gensim.utils.simple_preprocess(x))\n",
    "\n",
    "# Encoding the label column\n",
    "balanced_df['status']=balanced_df['status'].map({'low_risk':0,'high_risk':1})\n",
    "\n",
    "\n",
    "balanced_df.head()\n"
   ]
  },
  {
   "attachments": {},
   "cell_type": "markdown",
   "metadata": {},
   "source": [
    "## Split Dataset"
   ]
  },
  {
   "attachments": {},
   "cell_type": "markdown",
   "metadata": {},
   "source": [
    "The dataframe (dataset) is splitted:\n",
    "\n",
    "- X_train = assessment statement for training\n",
    "- X_test = according label for training belonging to assessment \n",
    "- y_train = assessment statement for test\n",
    "- y_test = according label for testing belonging to assessment "
   ]
  },
  {
   "cell_type": "code",
   "execution_count": 7,
   "metadata": {},
   "outputs": [],
   "source": [
    "# Split data into train and test sets\n",
    "# Set a fixed random seed\n",
    "np.random.seed(42)\n",
    "X_train, X_test, y_train, y_test = train_test_split (balanced_df['text_clean'], balanced_df['status'] , test_size=0.2)"
   ]
  },
  {
   "cell_type": "code",
   "execution_count": 8,
   "metadata": {},
   "outputs": [
    {
     "name": "stdout",
     "output_type": "stream",
     "text": [
      "283\n"
     ]
    }
   ],
   "source": [
    "print(len(y_train))"
   ]
  },
  {
   "attachments": {},
   "cell_type": "markdown",
   "metadata": {},
   "source": [
    "Create a variable storing all sentences (to train word2vec model with the highest )"
   ]
  },
  {
   "cell_type": "code",
   "execution_count": 9,
   "metadata": {},
   "outputs": [
    {
     "name": "stdout",
     "output_type": "stream",
     "text": [
      "<class 'pandas.core.series.Series'>\n"
     ]
    },
    {
     "data": {
      "text/plain": [
       "352    [examination, good, quality, good, bolus, timing, good, demonstration, coronary, artery, leave, ...\n",
       "203    [year, old, female, history, febrile, seizure, concern, spell, unclear, etiology, somewhat, conc...\n",
       "343    [recent, cerebrovascular, accident, right, side, weakness, hypertension, dementia, anxiety, urin...\n",
       "182    [arthralgia, suspicious, inflammatory, arthritis, certainly, active, bothersome, think, need, lo...\n",
       "75     [patient, basal, energy, expenditure, adjust, obesity, estimate, calorie, day, total, calorie, r...\n",
       "                                                      ...                                                 \n",
       "342    [history, hyperlipidemia, elevate, triglyceride, maintain, gemfibrozil, health, maintenance, iss...\n",
       "195    [upper, respiratory, infection, treatment, use, bulb, syringe, saline, nose, drop, mucus, anteri...\n",
       "242    [base, result, weston, aphasia, battery, patient, deficit, closely, resemble, global, aphasia, s...\n",
       "93     [year, old, female, clostridium, difficile, colitis, diarrhea, secondary, relate, reglan, discon...\n",
       "185    [congestive, heart, failure, stable, current, regiman, continue, diabetes, type, ii, improve, in...\n",
       "Name: text_clean, Length: 354, dtype: object"
      ]
     },
     "execution_count": 9,
     "metadata": {},
     "output_type": "execute_result"
    }
   ],
   "source": [
    "print(type(X_train))\n",
    "X_total = pd.concat([X_train, X_test])\n",
    "len(X_total)\n",
    "(X_total)"
   ]
  },
  {
   "cell_type": "code",
   "execution_count": 10,
   "metadata": {},
   "outputs": [
    {
     "data": {
      "text/html": [
       "<div>\n",
       "<style scoped>\n",
       "    .dataframe tbody tr th:only-of-type {\n",
       "        vertical-align: middle;\n",
       "    }\n",
       "\n",
       "    .dataframe tbody tr th {\n",
       "        vertical-align: top;\n",
       "    }\n",
       "\n",
       "    .dataframe thead th {\n",
       "        text-align: right;\n",
       "    }\n",
       "</style>\n",
       "<table border=\"1\" class=\"dataframe\">\n",
       "  <thead>\n",
       "    <tr style=\"text-align: right;\">\n",
       "      <th></th>\n",
       "      <th>X_total</th>\n",
       "    </tr>\n",
       "  </thead>\n",
       "  <tbody>\n",
       "    <tr>\n",
       "      <th>352</th>\n",
       "      <td>[examination, good, quality, good, bolus, timing, good, demonstration, coronary, artery, leave, ...</td>\n",
       "    </tr>\n",
       "    <tr>\n",
       "      <th>203</th>\n",
       "      <td>[year, old, female, history, febrile, seizure, concern, spell, unclear, etiology, somewhat, conc...</td>\n",
       "    </tr>\n",
       "    <tr>\n",
       "      <th>343</th>\n",
       "      <td>[recent, cerebrovascular, accident, right, side, weakness, hypertension, dementia, anxiety, urin...</td>\n",
       "    </tr>\n",
       "    <tr>\n",
       "      <th>182</th>\n",
       "      <td>[arthralgia, suspicious, inflammatory, arthritis, certainly, active, bothersome, think, need, lo...</td>\n",
       "    </tr>\n",
       "    <tr>\n",
       "      <th>75</th>\n",
       "      <td>[patient, basal, energy, expenditure, adjust, obesity, estimate, calorie, day, total, calorie, r...</td>\n",
       "    </tr>\n",
       "  </tbody>\n",
       "</table>\n",
       "</div>"
      ],
      "text/plain": [
       "                                                                                                 X_total\n",
       "352  [examination, good, quality, good, bolus, timing, good, demonstration, coronary, artery, leave, ...\n",
       "203  [year, old, female, history, febrile, seizure, concern, spell, unclear, etiology, somewhat, conc...\n",
       "343  [recent, cerebrovascular, accident, right, side, weakness, hypertension, dementia, anxiety, urin...\n",
       "182  [arthralgia, suspicious, inflammatory, arthritis, certainly, active, bothersome, think, need, lo...\n",
       "75   [patient, basal, energy, expenditure, adjust, obesity, estimate, calorie, day, total, calorie, r..."
      ]
     },
     "execution_count": 10,
     "metadata": {},
     "output_type": "execute_result"
    }
   ],
   "source": [
    "#Save X_total as dataframe\n",
    "\n",
    "df = pd.DataFrame({'X_total': X_total})\n",
    "\n",
    "df.head()"
   ]
  },
  {
   "cell_type": "code",
   "execution_count": 11,
   "metadata": {},
   "outputs": [],
   "source": [
    "list_X_train = X_train.tolist()\n",
    "list_X_test = X_test.tolist()\n",
    "list_y_train = y_train.tolist()\n",
    "list_y_test = y_test.tolist()\n",
    "\n",
    "# print(list_X_train[0], list_X_test[0])\n",
    "# print(list_y_train[0], list_y_test[0])\n",
    "\n"
   ]
  },
  {
   "attachments": {},
   "cell_type": "markdown",
   "metadata": {},
   "source": [
    "# word2vec training"
   ]
  },
  {
   "attachments": {},
   "cell_type": "markdown",
   "metadata": {},
   "source": [
    "## Initiation:\n",
    "\n",
    "- builds the vocabulary\n",
    "- starts training the Word2Vec model\n",
    "- training a neural network with a single hidden layer where we train the model to predict the current word based on the context (using the default neural architecture)\n",
    "- the goal is to learn the weights (word vectors) of the hidden layer. \n",
    "- The resulting learned vector is also known as the embeddings. \n",
    "- embeddings = features describing the target word (For example, the word `king` may be described by the gender, age, the type of people the king associates with, etc)"
   ]
  },
  {
   "cell_type": "code",
   "execution_count": 12,
   "metadata": {},
   "outputs": [],
   "source": [
    "# Init word2vec\n",
    "vector_size_n_w2v = 300\n",
    "w2v_model = gensim.models.Word2Vec(X_total,\n",
    "                                   vector_size=vector_size_n_w2v,   #Representing the dimensions of each vector belonging to a word \n",
    "                                   window=10,                       #The maximum distance between the current word and its neighboring words\n",
    "                                   min_count=1,                     #Determines the number of times a word must occur in the text corpus for a word vector to be created\n",
    "                                   sg = 1,                          #0=CBOW/1=Skip-Gram\n",
    "                                   sample = 1e-5,\n",
    "                                   negative=5)"
   ]
  },
  {
   "attachments": {},
   "cell_type": "markdown",
   "metadata": {},
   "source": [
    "## Save word2vec and reload"
   ]
  },
  {
   "attachments": {},
   "cell_type": "markdown",
   "metadata": {},
   "source": [
    "- the word2vec model is saved as pickle file\n",
    "- additionally, the vector size is saved as it must be used later "
   ]
  },
  {
   "cell_type": "code",
   "execution_count": 13,
   "metadata": {},
   "outputs": [],
   "source": [
    "# import pickle\n",
    "\n",
    "\n",
    "# # Save the model as a pickle file\n",
    "# with open('pickles/w2vec_model_X_total_spacy.pkl', 'wb') as f:\n",
    "#     pickle.dump(w2v_model, f)\n",
    "\n",
    "# pickle.dump(vector_size_n_w2v, open('pickles/vector_size_w2v_metric_X_total_spacy.pkl', 'wb'))"
   ]
  },
  {
   "cell_type": "code",
   "execution_count": 14,
   "metadata": {},
   "outputs": [],
   "source": [
    "import pickle\n",
    "\n",
    "# Load the Word2Vec model from the pickle file\n",
    "with open('pickles/w2vec_model_X_total_spacy.pkl', 'rb') as f:\n",
    "    X_total_loaded_w2vec_model = pickle.load(f)\n",
    "\n",
    "X_total_vector_size_n_reloaded = pickle.load(open(\"pickles/vector_size_w2v_metric_X_total_spacy.pkl\",'rb'))"
   ]
  },
  {
   "attachments": {},
   "cell_type": "markdown",
   "metadata": {},
   "source": [
    "## Review the vocabulary and its vector"
   ]
  },
  {
   "cell_type": "code",
   "execution_count": 15,
   "metadata": {},
   "outputs": [
    {
     "name": "stdout",
     "output_type": "stream",
     "text": [
      "2084\n"
     ]
    }
   ],
   "source": [
    "#all of the words that the word2vec model has learned a vector for\n",
    "#all of the words that appeared in the training data at least twice (see min_count)\n",
    "#print((loaded_w2vec_model.wv.index_to_key))\n",
    "print(len(X_total_loaded_w2vec_model.wv.index_to_key))"
   ]
  },
  {
   "cell_type": "code",
   "execution_count": 16,
   "metadata": {},
   "outputs": [
    {
     "data": {
      "text/html": [
       "<div>\n",
       "<style scoped>\n",
       "    .dataframe tbody tr th:only-of-type {\n",
       "        vertical-align: middle;\n",
       "    }\n",
       "\n",
       "    .dataframe tbody tr th {\n",
       "        vertical-align: top;\n",
       "    }\n",
       "\n",
       "    .dataframe thead th {\n",
       "        text-align: right;\n",
       "    }\n",
       "</style>\n",
       "<table border=\"1\" class=\"dataframe\">\n",
       "  <thead>\n",
       "    <tr style=\"text-align: right;\">\n",
       "      <th></th>\n",
       "      <th>abc</th>\n",
       "      <th>abcd</th>\n",
       "      <th>abdoman</th>\n",
       "      <th>abdominal</th>\n",
       "      <th>abduction</th>\n",
       "      <th>ability</th>\n",
       "      <th>able</th>\n",
       "      <th>abnormal</th>\n",
       "      <th>abnormality</th>\n",
       "      <th>abscess</th>\n",
       "      <th>...</th>\n",
       "      <th>xs</th>\n",
       "      <th>xyz</th>\n",
       "      <th>year</th>\n",
       "      <th>yeast</th>\n",
       "      <th>yes</th>\n",
       "      <th>yesterday</th>\n",
       "      <th>young</th>\n",
       "      <th>zinc</th>\n",
       "      <th>zs</th>\n",
       "      <th>zyprexa</th>\n",
       "    </tr>\n",
       "  </thead>\n",
       "  <tbody>\n",
       "    <tr>\n",
       "      <th>0</th>\n",
       "      <td>0</td>\n",
       "      <td>0</td>\n",
       "      <td>0</td>\n",
       "      <td>0</td>\n",
       "      <td>0</td>\n",
       "      <td>0</td>\n",
       "      <td>0</td>\n",
       "      <td>0</td>\n",
       "      <td>0</td>\n",
       "      <td>0</td>\n",
       "      <td>...</td>\n",
       "      <td>0</td>\n",
       "      <td>0</td>\n",
       "      <td>0</td>\n",
       "      <td>0</td>\n",
       "      <td>0</td>\n",
       "      <td>0</td>\n",
       "      <td>0</td>\n",
       "      <td>0</td>\n",
       "      <td>0</td>\n",
       "      <td>0</td>\n",
       "    </tr>\n",
       "    <tr>\n",
       "      <th>1</th>\n",
       "      <td>0</td>\n",
       "      <td>0</td>\n",
       "      <td>0</td>\n",
       "      <td>0</td>\n",
       "      <td>0</td>\n",
       "      <td>0</td>\n",
       "      <td>0</td>\n",
       "      <td>0</td>\n",
       "      <td>0</td>\n",
       "      <td>0</td>\n",
       "      <td>...</td>\n",
       "      <td>0</td>\n",
       "      <td>0</td>\n",
       "      <td>0</td>\n",
       "      <td>0</td>\n",
       "      <td>0</td>\n",
       "      <td>0</td>\n",
       "      <td>0</td>\n",
       "      <td>0</td>\n",
       "      <td>0</td>\n",
       "      <td>0</td>\n",
       "    </tr>\n",
       "    <tr>\n",
       "      <th>2</th>\n",
       "      <td>0</td>\n",
       "      <td>0</td>\n",
       "      <td>0</td>\n",
       "      <td>0</td>\n",
       "      <td>0</td>\n",
       "      <td>0</td>\n",
       "      <td>0</td>\n",
       "      <td>0</td>\n",
       "      <td>0</td>\n",
       "      <td>0</td>\n",
       "      <td>...</td>\n",
       "      <td>0</td>\n",
       "      <td>0</td>\n",
       "      <td>0</td>\n",
       "      <td>0</td>\n",
       "      <td>0</td>\n",
       "      <td>0</td>\n",
       "      <td>0</td>\n",
       "      <td>0</td>\n",
       "      <td>0</td>\n",
       "      <td>0</td>\n",
       "    </tr>\n",
       "    <tr>\n",
       "      <th>3</th>\n",
       "      <td>0</td>\n",
       "      <td>0</td>\n",
       "      <td>0</td>\n",
       "      <td>0</td>\n",
       "      <td>0</td>\n",
       "      <td>0</td>\n",
       "      <td>0</td>\n",
       "      <td>0</td>\n",
       "      <td>0</td>\n",
       "      <td>0</td>\n",
       "      <td>...</td>\n",
       "      <td>0</td>\n",
       "      <td>0</td>\n",
       "      <td>0</td>\n",
       "      <td>0</td>\n",
       "      <td>0</td>\n",
       "      <td>0</td>\n",
       "      <td>0</td>\n",
       "      <td>0</td>\n",
       "      <td>0</td>\n",
       "      <td>0</td>\n",
       "    </tr>\n",
       "    <tr>\n",
       "      <th>4</th>\n",
       "      <td>0</td>\n",
       "      <td>0</td>\n",
       "      <td>0</td>\n",
       "      <td>0</td>\n",
       "      <td>0</td>\n",
       "      <td>0</td>\n",
       "      <td>0</td>\n",
       "      <td>0</td>\n",
       "      <td>0</td>\n",
       "      <td>0</td>\n",
       "      <td>...</td>\n",
       "      <td>0</td>\n",
       "      <td>0</td>\n",
       "      <td>0</td>\n",
       "      <td>0</td>\n",
       "      <td>0</td>\n",
       "      <td>0</td>\n",
       "      <td>0</td>\n",
       "      <td>0</td>\n",
       "      <td>0</td>\n",
       "      <td>0</td>\n",
       "    </tr>\n",
       "    <tr>\n",
       "      <th>...</th>\n",
       "      <td>...</td>\n",
       "      <td>...</td>\n",
       "      <td>...</td>\n",
       "      <td>...</td>\n",
       "      <td>...</td>\n",
       "      <td>...</td>\n",
       "      <td>...</td>\n",
       "      <td>...</td>\n",
       "      <td>...</td>\n",
       "      <td>...</td>\n",
       "      <td>...</td>\n",
       "      <td>...</td>\n",
       "      <td>...</td>\n",
       "      <td>...</td>\n",
       "      <td>...</td>\n",
       "      <td>...</td>\n",
       "      <td>...</td>\n",
       "      <td>...</td>\n",
       "      <td>...</td>\n",
       "      <td>...</td>\n",
       "      <td>...</td>\n",
       "    </tr>\n",
       "    <tr>\n",
       "      <th>2079</th>\n",
       "      <td>0</td>\n",
       "      <td>0</td>\n",
       "      <td>0</td>\n",
       "      <td>0</td>\n",
       "      <td>0</td>\n",
       "      <td>0</td>\n",
       "      <td>0</td>\n",
       "      <td>0</td>\n",
       "      <td>0</td>\n",
       "      <td>0</td>\n",
       "      <td>...</td>\n",
       "      <td>0</td>\n",
       "      <td>0</td>\n",
       "      <td>0</td>\n",
       "      <td>0</td>\n",
       "      <td>0</td>\n",
       "      <td>0</td>\n",
       "      <td>0</td>\n",
       "      <td>0</td>\n",
       "      <td>0</td>\n",
       "      <td>0</td>\n",
       "    </tr>\n",
       "    <tr>\n",
       "      <th>2080</th>\n",
       "      <td>0</td>\n",
       "      <td>0</td>\n",
       "      <td>0</td>\n",
       "      <td>0</td>\n",
       "      <td>0</td>\n",
       "      <td>0</td>\n",
       "      <td>0</td>\n",
       "      <td>0</td>\n",
       "      <td>0</td>\n",
       "      <td>0</td>\n",
       "      <td>...</td>\n",
       "      <td>0</td>\n",
       "      <td>0</td>\n",
       "      <td>0</td>\n",
       "      <td>0</td>\n",
       "      <td>0</td>\n",
       "      <td>0</td>\n",
       "      <td>0</td>\n",
       "      <td>0</td>\n",
       "      <td>0</td>\n",
       "      <td>0</td>\n",
       "    </tr>\n",
       "    <tr>\n",
       "      <th>2081</th>\n",
       "      <td>0</td>\n",
       "      <td>0</td>\n",
       "      <td>0</td>\n",
       "      <td>0</td>\n",
       "      <td>0</td>\n",
       "      <td>0</td>\n",
       "      <td>0</td>\n",
       "      <td>0</td>\n",
       "      <td>0</td>\n",
       "      <td>0</td>\n",
       "      <td>...</td>\n",
       "      <td>0</td>\n",
       "      <td>0</td>\n",
       "      <td>0</td>\n",
       "      <td>0</td>\n",
       "      <td>0</td>\n",
       "      <td>0</td>\n",
       "      <td>0</td>\n",
       "      <td>0</td>\n",
       "      <td>0</td>\n",
       "      <td>0</td>\n",
       "    </tr>\n",
       "    <tr>\n",
       "      <th>2082</th>\n",
       "      <td>0</td>\n",
       "      <td>0</td>\n",
       "      <td>0</td>\n",
       "      <td>0</td>\n",
       "      <td>0</td>\n",
       "      <td>0</td>\n",
       "      <td>0</td>\n",
       "      <td>0</td>\n",
       "      <td>0</td>\n",
       "      <td>0</td>\n",
       "      <td>...</td>\n",
       "      <td>0</td>\n",
       "      <td>0</td>\n",
       "      <td>0</td>\n",
       "      <td>0</td>\n",
       "      <td>0</td>\n",
       "      <td>0</td>\n",
       "      <td>0</td>\n",
       "      <td>0</td>\n",
       "      <td>0</td>\n",
       "      <td>0</td>\n",
       "    </tr>\n",
       "    <tr>\n",
       "      <th>2083</th>\n",
       "      <td>0</td>\n",
       "      <td>0</td>\n",
       "      <td>0</td>\n",
       "      <td>0</td>\n",
       "      <td>0</td>\n",
       "      <td>0</td>\n",
       "      <td>0</td>\n",
       "      <td>0</td>\n",
       "      <td>0</td>\n",
       "      <td>0</td>\n",
       "      <td>...</td>\n",
       "      <td>0</td>\n",
       "      <td>0</td>\n",
       "      <td>0</td>\n",
       "      <td>0</td>\n",
       "      <td>0</td>\n",
       "      <td>0</td>\n",
       "      <td>0</td>\n",
       "      <td>0</td>\n",
       "      <td>0</td>\n",
       "      <td>0</td>\n",
       "    </tr>\n",
       "  </tbody>\n",
       "</table>\n",
       "<p>2084 rows × 2062 columns</p>\n",
       "</div>"
      ],
      "text/plain": [
       "      abc  abcd  abdoman  abdominal  abduction  ability  able  abnormal  \\\n",
       "0       0     0        0          0          0        0     0         0   \n",
       "1       0     0        0          0          0        0     0         0   \n",
       "2       0     0        0          0          0        0     0         0   \n",
       "3       0     0        0          0          0        0     0         0   \n",
       "4       0     0        0          0          0        0     0         0   \n",
       "...   ...   ...      ...        ...        ...      ...   ...       ...   \n",
       "2079    0     0        0          0          0        0     0         0   \n",
       "2080    0     0        0          0          0        0     0         0   \n",
       "2081    0     0        0          0          0        0     0         0   \n",
       "2082    0     0        0          0          0        0     0         0   \n",
       "2083    0     0        0          0          0        0     0         0   \n",
       "\n",
       "      abnormality  abscess  ...  xs  xyz  year  yeast  yes  yesterday  young  \\\n",
       "0               0        0  ...   0    0     0      0    0          0      0   \n",
       "1               0        0  ...   0    0     0      0    0          0      0   \n",
       "2               0        0  ...   0    0     0      0    0          0      0   \n",
       "3               0        0  ...   0    0     0      0    0          0      0   \n",
       "4               0        0  ...   0    0     0      0    0          0      0   \n",
       "...           ...      ...  ...  ..  ...   ...    ...  ...        ...    ...   \n",
       "2079            0        0  ...   0    0     0      0    0          0      0   \n",
       "2080            0        0  ...   0    0     0      0    0          0      0   \n",
       "2081            0        0  ...   0    0     0      0    0          0      0   \n",
       "2082            0        0  ...   0    0     0      0    0          0      0   \n",
       "2083            0        0  ...   0    0     0      0    0          0      0   \n",
       "\n",
       "      zinc  zs  zyprexa  \n",
       "0        0   0        0  \n",
       "1        0   0        0  \n",
       "2        0   0        0  \n",
       "3        0   0        0  \n",
       "4        0   0        0  \n",
       "...    ...  ..      ...  \n",
       "2079     0   0        0  \n",
       "2080     0   0        0  \n",
       "2081     0   0        0  \n",
       "2082     0   0        0  \n",
       "2083     0   0        0  \n",
       "\n",
       "[2084 rows x 2062 columns]"
      ]
     },
     "execution_count": 16,
     "metadata": {},
     "output_type": "execute_result"
    }
   ],
   "source": [
    "corpus = ((X_total_loaded_w2vec_model.wv.index_to_key))\n",
    "vectorizer = CountVectorizer(stop_words='english') \n",
    "X = vectorizer.fit_transform(corpus) \n",
    "bow = pd.DataFrame(X.A, columns=vectorizer.get_feature_names_out())\n",
    "bow"
   ]
  },
  {
   "cell_type": "code",
   "execution_count": 17,
   "metadata": {},
   "outputs": [],
   "source": [
    "bow.to_csv('data/bow.csv', index=False)  # Save DataFrame to CSV file\n",
    "#df = pd.read_csv('filename.csv')  # Read CSV file into DataFrame"
   ]
  },
  {
   "cell_type": "code",
   "execution_count": 18,
   "metadata": {},
   "outputs": [
    {
     "data": {
      "text/plain": [
       "array([ 1.83474889e-03,  2.28774361e-03,  2.08374648e-03, -3.09358910e-03,\n",
       "        3.19550117e-03, -2.74993689e-03,  2.54694984e-04,  7.25002974e-05,\n",
       "        2.40754592e-03, -2.89558782e-03,  1.01652718e-03, -2.06359592e-03,\n",
       "        1.65739516e-06,  2.47204956e-03, -3.10672051e-03,  3.27065657e-03,\n",
       "       -3.04753636e-03,  2.24688696e-03, -2.73572304e-03, -2.23116949e-03,\n",
       "       -2.75747967e-03,  1.98456156e-03, -8.26276024e-04,  5.87644230e-04,\n",
       "       -2.92688189e-03,  3.34107503e-03,  9.67260217e-04, -1.43547426e-03,\n",
       "       -1.10136461e-03,  2.65712105e-03,  1.00032846e-03, -3.25310230e-03,\n",
       "        1.10151398e-03, -1.87419937e-03,  7.38832809e-04,  2.66487501e-03,\n",
       "       -4.29478416e-04,  3.84559571e-05,  2.01665447e-03, -1.96496467e-03,\n",
       "        1.15564454e-03,  1.35298190e-03, -3.17526632e-03, -1.25331769e-03,\n",
       "        2.66757817e-03,  5.98073297e-04,  3.13895498e-03, -5.29342506e-04,\n",
       "        2.77526164e-03, -2.75296788e-03,  1.77697756e-03, -2.92857224e-03,\n",
       "        8.74481571e-04,  2.80192355e-03, -7.34705362e-04,  2.53278227e-03,\n",
       "       -3.13601899e-03, -2.51474266e-04,  1.33590144e-03, -1.78331754e-03,\n",
       "        2.46102083e-03, -2.41969386e-03, -3.39931546e-04,  3.06946901e-03,\n",
       "        2.65706074e-03,  2.88198586e-04,  3.27001838e-03, -3.25157563e-03,\n",
       "       -1.04345288e-03,  8.72578530e-04, -8.22940667e-04,  1.76678202e-03,\n",
       "        2.59259203e-03, -1.32527866e-03, -7.52384367e-04,  3.18588107e-03,\n",
       "       -2.16112775e-03, -2.92679481e-03, -1.92940235e-04, -2.57713813e-03,\n",
       "        2.97101040e-04,  6.10007730e-04, -2.53787357e-03, -1.88655496e-04,\n",
       "       -1.60511967e-03, -9.02614731e-04,  7.86367804e-04,  1.30725815e-03,\n",
       "       -8.32643360e-04,  2.84513645e-03,  2.72906997e-04,  2.39117583e-03,\n",
       "        1.11069763e-03,  1.49544026e-03,  3.38574545e-03, -1.39026879e-03,\n",
       "        1.74714791e-04, -1.29636691e-03,  1.35210645e-03, -2.11259397e-03,\n",
       "       -7.62191776e-04,  2.51971954e-03, -9.46912216e-04,  1.17212452e-03,\n",
       "        9.59193712e-05,  4.09905013e-04, -1.86661026e-04, -2.82393349e-03,\n",
       "        2.90888874e-03,  2.29788222e-03, -3.25892470e-03, -2.45510880e-03,\n",
       "        7.15786940e-04,  3.32955242e-05, -8.90295953e-04,  2.92478595e-03,\n",
       "       -2.96958443e-03, -9.97376395e-04,  2.55652773e-03, -3.56365112e-04,\n",
       "       -1.82475604e-03,  2.99689849e-03,  2.27339310e-03, -1.29001949e-03,\n",
       "       -2.47453852e-03, -2.77532643e-04,  2.82461662e-03, -8.24432820e-04,\n",
       "        1.59571518e-03, -6.17476646e-04,  1.35881733e-03, -4.31247317e-04,\n",
       "        2.07938044e-03,  3.23343277e-03, -2.77705374e-03,  2.09496077e-03,\n",
       "       -2.51245359e-03, -3.11610266e-03,  1.79279293e-03,  7.17330608e-04,\n",
       "        1.79310329e-03, -3.28299170e-03,  2.71712802e-03, -2.76940921e-03,\n",
       "       -2.15887022e-03,  4.86228644e-04, -1.49929686e-03,  7.98188965e-04,\n",
       "       -1.71678804e-03, -2.22996227e-03,  2.11091363e-03, -7.23115576e-04,\n",
       "        2.08483473e-03, -9.90053639e-04, -2.99652194e-04,  1.43123930e-03,\n",
       "        2.27499008e-03, -6.10150862e-04, -3.34100542e-03, -7.35464972e-04,\n",
       "        2.36508134e-03,  2.22143135e-03, -2.15719361e-03,  1.18893466e-03,\n",
       "        3.19871795e-03, -2.61367252e-03,  4.67350110e-05,  2.52121012e-04,\n",
       "       -1.99198932e-03, -1.76575442e-03,  1.70620554e-03, -1.52645900e-03,\n",
       "       -1.62477465e-03,  7.50744541e-04,  3.04328674e-03,  2.44685658e-03,\n",
       "       -1.82880205e-03, -9.69550980e-04,  2.98649399e-03,  9.65948493e-05,\n",
       "       -1.67898089e-03, -2.78070988e-03, -1.83720875e-03,  1.82364124e-03,\n",
       "        7.38935021e-04, -2.17133365e-03,  2.08570436e-03, -6.25525077e-04,\n",
       "       -1.05460895e-04, -1.55648496e-03,  1.12611137e-03,  1.82074626e-04,\n",
       "        6.36882265e-04, -1.28535880e-03, -9.92515939e-04, -2.67860800e-04,\n",
       "       -1.32596865e-03, -4.13105357e-04,  2.68157059e-03,  7.71442079e-04,\n",
       "        1.96841848e-03,  1.27077231e-03,  5.78327803e-04,  1.75379057e-04,\n",
       "        2.91716075e-03,  1.58878497e-03, -2.61772447e-03,  2.69640028e-03,\n",
       "       -1.79102924e-03, -3.14653589e-04, -3.02292523e-03, -3.10203061e-03,\n",
       "       -1.27959962e-03,  1.79728121e-03,  5.95639169e-04, -2.87801784e-04,\n",
       "       -1.89431221e-03,  1.81925565e-03,  2.67121475e-03,  2.27660360e-03,\n",
       "       -2.58112326e-04, -2.85757915e-03,  2.59910244e-03, -7.06774183e-04,\n",
       "        7.54280773e-04,  1.59797608e-03,  3.21590155e-03, -2.87168048e-04,\n",
       "       -1.57768209e-03, -3.00764601e-04,  1.05977734e-03, -1.63609671e-04,\n",
       "       -5.92659693e-04,  3.25288507e-03,  7.94384745e-04, -1.73051655e-03,\n",
       "        3.17808520e-03, -2.21222057e-03, -9.56015720e-04,  1.73808681e-03,\n",
       "       -1.95475086e-03,  2.18260847e-03, -2.17729155e-03, -3.02405306e-03,\n",
       "       -3.00882757e-03,  6.76961674e-04,  1.98137807e-03,  2.35944265e-03,\n",
       "        9.51913011e-04,  1.49427762e-03, -1.61573145e-04, -2.35875649e-03,\n",
       "        3.35289934e-03, -2.18215352e-03,  2.29401467e-03, -3.59626312e-04,\n",
       "       -3.33748176e-04, -7.51991000e-04,  2.58816010e-03, -2.25580088e-03,\n",
       "        7.14183727e-04,  1.47192215e-04,  3.88518587e-04, -2.07215734e-03,\n",
       "       -2.82422011e-03, -2.76527228e-03, -1.26789627e-03, -1.05134430e-04,\n",
       "       -2.11373693e-03,  2.93204910e-03,  8.37059459e-04, -2.32269452e-03,\n",
       "       -1.67693768e-03, -1.99040375e-03, -2.64248182e-03,  9.63781786e-05,\n",
       "       -3.21408181e-04,  3.03542521e-03,  1.41181343e-03, -3.47912428e-04,\n",
       "        3.11934948e-03, -1.92438683e-03, -3.01521923e-03,  4.85975237e-04,\n",
       "       -1.96567643e-03, -1.25353446e-03,  6.61057595e-04, -2.55484297e-03,\n",
       "       -6.05377660e-04,  9.73876915e-04,  4.69737075e-04, -3.93199211e-04,\n",
       "       -2.75293161e-04,  3.07717663e-03,  1.03009620e-03, -7.22062076e-04,\n",
       "       -1.69516681e-03, -2.29854044e-03, -4.65330028e-04, -1.14684796e-03],\n",
       "      dtype=float32)"
      ]
     },
     "execution_count": 18,
     "metadata": {},
     "output_type": "execute_result"
    }
   ],
   "source": [
    "#Output of the calculated vector for a given word from the vocabulary\n",
    "X_total_loaded_w2vec_model.wv[\"weight\"]"
   ]
  },
  {
   "attachments": {},
   "cell_type": "markdown",
   "metadata": {},
   "source": [
    "## Process vectors to use them for machine learning model"
   ]
  },
  {
   "attachments": {},
   "cell_type": "markdown",
   "metadata": {},
   "source": [
    "## Generation of aggregated Sentence Vectors:\n",
    "\n"
   ]
  },
  {
   "attachments": {},
   "cell_type": "markdown",
   "metadata": {},
   "source": [
    "- A set is an unordered collection of unique elements, meaning that duplicate values are eliminated. \n",
    "- By converting the list to a set, it ensures that each word appears only once in the resulting set"
   ]
  },
  {
   "attachments": {},
   "cell_type": "markdown",
   "metadata": {},
   "source": [
    "- create array which contains the vectors for each word of one particular sentence (len xtrain + len xtest == amount of sentences)"
   ]
  },
  {
   "cell_type": "code",
   "execution_count": 19,
   "metadata": {},
   "outputs": [
    {
     "name": "stderr",
     "output_type": "stream",
     "text": [
      "C:\\Users\\Tim\\AppData\\Local\\Temp\\ipykernel_8176\\1000810332.py:6: VisibleDeprecationWarning: Creating an ndarray from ragged nested sequences (which is a list-or-tuple of lists-or-tuples-or ndarrays with different lengths or shapes) is deprecated. If you meant to do this, you must specify 'dtype=object' when creating the ndarray.\n",
      "  X_train_vect = np.array([np.array([X_total_loaded_w2vec_model.wv[i] for i in ls if i in words])\n",
      "C:\\Users\\Tim\\AppData\\Local\\Temp\\ipykernel_8176\\1000810332.py:9: VisibleDeprecationWarning: Creating an ndarray from ragged nested sequences (which is a list-or-tuple of lists-or-tuples-or ndarrays with different lengths or shapes) is deprecated. If you meant to do this, you must specify 'dtype=object' when creating the ndarray.\n",
      "  X_test_vect = np.array([np.array([X_total_loaded_w2vec_model.wv[i] for i in ls if i in words])\n"
     ]
    }
   ],
   "source": [
    "# Generate aggregated sentence vectors based on the word vectors for each word in the sentence\n",
    "# Replace the words in each assessment status with the learned word vector\n",
    "\n",
    "words = set(X_total_loaded_w2vec_model.wv.index_to_key) #returns list of the words the model learned a vector \n",
    "\n",
    "X_train_vect = np.array([np.array([X_total_loaded_w2vec_model.wv[i] for i in ls if i in words])\n",
    "                         for ls in X_train])\n",
    "\n",
    "X_test_vect = np.array([np.array([X_total_loaded_w2vec_model.wv[i] for i in ls if i in words])\n",
    "                         for ls in X_test])"
   ]
  },
  {
   "cell_type": "code",
   "execution_count": 20,
   "metadata": {},
   "outputs": [
    {
     "name": "stdout",
     "output_type": "stream",
     "text": [
      "[[ 0.000272    0.00084093  0.00097322 ...  0.00101258  0.00382206\n",
      "  -0.00170458]\n",
      " [-0.00262309  0.00317793  0.00028562 ... -0.00279715  0.0014366\n",
      "  -0.00209923]\n",
      " [ 0.00346071  0.00083511  0.00193156 ...  0.00137885  0.00299759\n",
      "  -0.00071797]\n",
      " ...\n",
      " [ 0.00171811 -0.00092692 -0.00194898 ...  0.00315146 -0.00025651\n",
      "   0.00163905]\n",
      " [ 0.000272    0.00084093  0.00097322 ...  0.00101258  0.00382206\n",
      "  -0.00170458]\n",
      " [-0.00122782  0.00032523  0.00143541 ... -0.00146627 -0.00136634\n",
      "  -0.00010159]]\n"
     ]
    }
   ],
   "source": [
    "print((X_test_vect[0]))"
   ]
  },
  {
   "cell_type": "code",
   "execution_count": 21,
   "metadata": {},
   "outputs": [
    {
     "name": "stdout",
     "output_type": "stream",
     "text": [
      "283\n",
      "2084\n"
     ]
    }
   ],
   "source": [
    "print(len(X_train_vect))\n",
    "print(len(words))"
   ]
  },
  {
   "cell_type": "code",
   "execution_count": 22,
   "metadata": {},
   "outputs": [
    {
     "name": "stdout",
     "output_type": "stream",
     "text": [
      "Sentence: ['year', 'old', 'female', 'history', 'febrile', 'seizure', 'concern', 'spell', 'unclear', 'etiology', 'somewhat', 'concern', 'partial', 'complex', 'seizure', 'slightly', 'less', 'extent', 'nonconvulsive', 'generalize', 'seizure', 'recommendations', 'ahead', 'try', 'capture', 'eeg', 'long', 'tolerate', 'require', 'sedation', 'defer', 'eeg', 'adjustment', 'seizure', 'medication', 'response', 'medications', 'increase', 'keppra', 'mg', 'bring', 'total', 'daily', 'dose', 'mg', 'kg', 'day', 'spell', 'note', 'increase', 'upwards', 'ml', 'day', 'feel', 'like', 'specific', 'image', 'need', 'time', 'response', 'medication', 'review', 'eeg', 'finding', 'eeg', 'hopefully', 'able', 'review', 'thing', 'tomorrow', 'morning', 'delay', 'discharge', 'patient', 'wait', 'eeg', 'result', 'patient', 'discharge', 'contact', 'family', 'outpatient', 'patient', 'need', 'followup', 'arrangement', 'week', 'time', 'recheck', 'arrange', 'followup']\n",
      "Length of sentence: 91\n",
      "Length of sentence vector: 91\n",
      "Sentence vector:\n",
      " [[ 0.00079428  0.00194694 -0.00053114 ... -0.00246584 -0.00174201\n",
      "   0.00050927]\n",
      " [ 0.00180749 -0.00142351 -0.00286298 ...  0.002496   -0.00288499\n",
      "  -0.00150816]\n",
      " [-0.00289814 -0.00263453 -0.0028787  ... -0.0007564   0.00296166\n",
      "  -0.00112269]\n",
      " ...\n",
      " [ 0.00174372  0.00030547  0.00026002 ...  0.00157191  0.00263141\n",
      "  -0.00064893]\n",
      " [-0.00021281  0.00094553  0.00177304 ... -0.00239462  0.00040299\n",
      "  -0.00182162]\n",
      " [ 0.0019734  -0.00329796 -0.00227405 ...  0.00146057 -0.00312132\n",
      "  -0.00182575]]\n",
      "____________________________________________________________________________________________________________________________________________________________________________________________________________________________________________________________________\n"
     ]
    }
   ],
   "source": [
    "index_to_print = 1  # Specify the index of the item to print\n",
    "v = X_train_vect[index_to_print]\n",
    "\n",
    "sentence = X_train.iloc[index_to_print]\n",
    "print(\"Sentence:\", sentence)\n",
    "print(\"Length of sentence:\", len(sentence))\n",
    "print(\"Length of sentence vector:\", len(v))\n",
    "print(\"Sentence vector:\\n\", v)\n",
    "print(\"_\" * 260)\n"
   ]
  },
  {
   "cell_type": "code",
   "execution_count": 23,
   "metadata": {},
   "outputs": [
    {
     "name": "stdout",
     "output_type": "stream",
     "text": [
      "371 371\n",
      "91 91\n",
      "18 18\n",
      "21 21\n",
      "127 127\n"
     ]
    }
   ],
   "source": [
    "# Why is the length of the sentence different than the length of the sentence vector? heterogenous database\n",
    "# --> sentences have different numbers of words\n",
    "for i, v in enumerate(X_train_vect):\n",
    "    if i == 5:\n",
    "        break\n",
    "    print(len(X_train.iloc[i]), len(v))"
   ]
  },
  {
   "attachments": {},
   "cell_type": "markdown",
   "metadata": {},
   "source": [
    "## Calculate vector average"
   ]
  },
  {
   "attachments": {},
   "cell_type": "markdown",
   "metadata": {},
   "source": [
    "- for ml_model a consistent set of features for each example is needed\n",
    "- To get the number of features equal, the next step is to calculate an element-wise average of the different vectors assigned to a sentence. \n",
    "- Average the word vectors for each sentence (and assign a vector of zeros if the model did not learn any of the words in the text message during training)\n",
    "\n",
    "[array(\n",
    "        \n",
    "        [[0.1, 0.2, 0.3, 0.4],\n",
    "\n",
    "        [[0.1, 0.2, 0.3, 0.4]]\n",
    "        \n",
    "        ])]\n",
    "\n",
    "element1 = [0.1, 0.1] --> calculate average"
   ]
  },
  {
   "cell_type": "code",
   "execution_count": 24,
   "metadata": {},
   "outputs": [],
   "source": [
    "X_train_vect_avg = []\n",
    "for v in X_train_vect:\n",
    "    if v.size:\n",
    "        X_train_vect_avg.append(v.mean(axis=0))\n",
    "    else:\n",
    "        X_train_vect_avg.append(np.zeros(X_total_vector_size_n_reloaded, dtype=float))\n",
    "        \n",
    "X_test_vect_avg = []\n",
    "for v in X_test_vect:\n",
    "    if v.size:\n",
    "        X_test_vect_avg.append(v.mean(axis=0))\n",
    "    else:\n",
    "        X_test_vect_avg.append(np.zeros(X_total_vector_size_n_reloaded, dtype=float))"
   ]
  },
  {
   "cell_type": "code",
   "execution_count": 25,
   "metadata": {},
   "outputs": [
    {
     "name": "stdout",
     "output_type": "stream",
     "text": [
      "Sentence: ['examination', 'good', 'quality', 'good', 'bolus', 'timing', 'good', 'demonstration', 'coronary', 'artery', 'leave', 'main', 'coronary', 'artery', 'leave', 'main', 'coronary', 'artery', 'posteriorly', 'position', 'valve', 'cusp', 'patent', 'ostium', 'extramural', 'non', 'malignant', 'course', 'vessel', 'moderate', 'size', 'apparent', 'second', 'ostium', 'normal', 'anatomic', 'location', 'small', 'extramural', 'non', 'malignant', 'course', 'mix', 'calcific', 'atheromatous', 'plaque', 'distal', 'vessel', 'positive', 'remodel', 'high', 'grade', 'stenosis', 'flow', 'limit', 'lesion', 'exclude', 'vessel', 'trifurcate', 'leave', 'anterior', 'descend', 'artery', 'ramus', 'intermedius', 'leave', 'circumflex', 'artery', 'leave', 'anterior', 'descend', 'coronary', 'artery', 'leave', 'anterior', 'descend', 'artery', 'moderate', 'size', 'vessel', 'ostial', 'calcific', 'plaque', 'soft', 'plaque', 'high', 'grade', 'stenosis', 'flow', 'limit', 'lesion', 'moderate', 'size', 'bifurcate', 'diagonal', 'branch', 'ostial', 'calcification', 'flow', 'limit', 'lesion', 'lad', 'continue', 'moderate', 'size', 'vessel', 'posterior', 'apex', 'leave', 'ventricle', 'ramus', 'intermedius', 'branch', 'moderate', 'large', 'size', 'vessel', 'extensive', 'calcific', 'plaque', 'ostial', 'stenosis', 'dense', 'calcific', 'plaque', 'limit', 'evaluation', 'vessel', 'luman', 'flow', 'limit', 'lesion', 'proximal', 'vessel', 'exclude', 'vessel', 'continue', 'small', 'vessel', 'leave', 'lateral', 'ventricular', 'wall', 'leave', 'circumflex', 'coronary', 'artery', 'leave', 'circumflex', 'artery', 'moderate', 'size', 'vessel', 'normal', 'ostium', 'give', 'rise', 'small', 'om', 'branch', 'large', 'om', 'branch', 'supply', 'posterolateral', 'wall', 'leave', 'ventricular', 'av', 'groove', 'branch', 'taper', 'base', 'heart', 'minimal', 'calcific', 'plaque', 'mid', 'vessel', 'flow', 'limit', 'stenosis', 'right', 'coronary', 'artery', 'right', 'coronary', 'artery', 'large', 'vessel', 'normal', 'ostium', 'give', 'rise', 'moderate', 'size', 'acute', 'marginal', 'branch', 'continue', 'large', 'vessel', 'crux', 'heart', 'supply', 'leave', 'posterior', 'descend', 'artery', 'small', 'posterolateral', 'ventricular', 'branch', 'minimal', 'calcific', 'plaque', 'mid', 'vessel', 'flow', 'limit', 'lesion', 'coronary', 'circulation', 'right', 'dominant', 'functional', 'analysis', 'end', 'diastolic', 'volume', 'ml', 'end', 'systolic', 'volume', 'ml', 'ejection', 'fraction', 'percentanatomic', 'analysis', 'normal', 'heart', 'size', 'demonstrate', 'ventricular', 'wall', 'abnormality', 'demonstrate', 'normal', 'leave', 'atrial', 'appendage', 'evidence', 'thrombosis', 'cardiac', 'valve', 'normal', 'aortic', 'diameter', 'measure', 'mm', 'distal', 'sino', 'tubular', 'junction', 'visualize', 'thoracic', 'aorta', 'appear', 'normal', 'size', 'normal', 'pericardium', 'pericardial', 'thicken', 'effusion', 'demonstrate', 'mediastinal', 'hilar', 'adenopathy', 'visualize', 'lung', 'parenchyma', 'unremarkable', 'leave', 'right', 'pulmonary', 'vein', 'impression', 'ventricular', 'function', 'normal', 'single', 'vessel', 'coronary', 'artery', 'analysis', 'lm', 'posterior', 'origin', 'valve', 'cusp', 'mix', 'calcific', 'atheromatous', 'plaque', 'positive', 'remodel', 'plaque', 'lm', 'high', 'grade', 'stenosis', 'flow', 'limit', 'lesion', 'exclude', 'addition', 'apparent', 'second', 'ostium', 'indeterminate', 'significance', 'ostia', 'extramural', 'non', 'malignant', 'course', 'lad', 'dense', 'calcific', 'plaque', 'proximal', 'vessel', 'ostial', 'calcification', 'possible', 'flow', 'limit', 'proximal', 'lesion', 'ramus', 'branch', 'dense', 'calcific', 'plaque', 'limit', 'evaluation', 'vessel', 'luman', 'flow', 'limit', 'lesion', 'exclude', 'cx', 'minimal', 'calcific', 'plaque', 'flow', 'limit', 'lesion', 'rca', 'minimal', 'calcific', 'plaque', 'flow', 'limit', 'lesion', 'coronary', 'artery', 'dominance', 'right']\n",
      "Length of sentence: 371\n",
      "Length of sentence vector: 300\n",
      "Sentence vector:\n",
      " [ 1.18376724e-04  2.39907371e-04  3.80131241e-04  5.71744691e-04\n",
      "  2.83540081e-04 -4.77577880e-04  1.45713711e-04  6.40423910e-04\n",
      " -5.41741210e-05  3.99419281e-04 -5.06692799e-04 -1.50043765e-04\n",
      " -7.28737097e-04 -9.48276283e-05  1.56472277e-04 -2.59058084e-04\n",
      "  1.91093699e-04 -1.39659009e-04 -1.19487624e-04 -4.90495528e-04\n",
      " -2.77299434e-04 -3.80380981e-04  1.31660374e-04 -4.15915092e-05\n",
      "  6.72268390e-04 -3.04086192e-04  2.60873203e-04  4.68957733e-05\n",
      " -2.12649407e-04  1.44452526e-04 -2.54125218e-04  2.39993504e-04\n",
      "  9.10869039e-06 -2.23948504e-04 -2.26856864e-04 -1.97369678e-04\n",
      "  2.89275544e-04 -5.56434679e-04 -4.18505864e-04 -9.06495188e-05\n",
      "  2.19628942e-04  1.63097793e-04  3.95144307e-04 -5.80835622e-04\n",
      "  4.87829180e-04  5.89066825e-04  2.11343926e-04  4.75364272e-04\n",
      " -1.94244494e-04  2.79954489e-04  3.73643998e-04 -2.53166043e-04\n",
      " -5.85437811e-04  1.19657700e-04  1.38644478e-04  2.41778907e-04\n",
      " -8.21359354e-05 -1.48005574e-05  1.42476783e-04 -8.47219271e-05\n",
      "  7.39811730e-05 -1.14975002e-04 -2.54241895e-05  1.44185644e-04\n",
      "  2.19446971e-04  4.73933915e-06  3.45023145e-04  2.40888639e-05\n",
      " -5.15257998e-04 -1.60644573e-04  1.20503413e-04  3.28765978e-04\n",
      "  2.96022714e-04 -2.39301226e-04 -1.89769402e-04  9.29358721e-05\n",
      " -2.74556460e-05 -8.24831004e-05 -4.50085849e-04  2.32345292e-06\n",
      "  2.93098274e-04 -8.09321180e-04  1.07268759e-04  6.95291790e-04\n",
      " -1.40736185e-04  1.52181950e-04 -3.15094367e-04  1.48291228e-05\n",
      "  1.59327610e-04 -4.09341446e-04  9.29371628e-04  1.13246497e-04\n",
      "  3.13599521e-05  8.83770772e-05  3.58931487e-04 -1.22030258e-04\n",
      "  6.92415982e-04  3.39665858e-04 -4.18097625e-04  2.68932170e-04\n",
      "  4.40119504e-04  2.14844185e-04  2.64954258e-04  5.60835761e-05\n",
      "  2.62293383e-04 -4.65943565e-04 -6.07568247e-04 -2.30063844e-04\n",
      " -3.52071133e-04 -1.59978681e-05 -9.51590191e-05 -1.24544327e-04\n",
      " -5.16219297e-04  4.52636858e-04  8.46078445e-04 -4.16824259e-05\n",
      " -3.63394094e-04 -5.66100527e-04  5.54549508e-04 -6.34610129e-04\n",
      "  5.93360164e-05  2.71510915e-04  4.47179336e-05  2.37412285e-04\n",
      " -1.83032535e-04  1.48126041e-04  6.97830401e-04 -6.84004161e-04\n",
      "  1.63868855e-04  2.46622221e-04 -3.53551062e-04  4.68948216e-04\n",
      "  1.39466982e-04 -2.06773911e-04  3.60576902e-04  2.84762355e-04\n",
      " -1.08326654e-04 -4.78419563e-04 -6.44178013e-04 -1.47268220e-04\n",
      " -2.84832233e-04  6.36929180e-04  2.14629676e-04  1.35855647e-04\n",
      "  2.48302076e-05 -2.75511265e-04 -3.49144917e-04 -4.05779632e-04\n",
      "  3.29392002e-04 -2.44415987e-05 -1.35982860e-04 -3.17243655e-04\n",
      " -4.55599162e-04 -3.71419810e-05 -2.14910266e-04  3.38852202e-04\n",
      " -2.22838335e-05 -2.41067282e-05 -3.62290855e-04  8.13268649e-04\n",
      "  5.98937215e-04  4.49190469e-04 -3.88794986e-04  6.28201640e-04\n",
      " -2.61501205e-04  2.85870192e-05  1.08819368e-05  8.33548984e-05\n",
      "  2.85928036e-05  3.98998964e-04 -1.62794720e-04 -1.42837147e-04\n",
      "  2.79504427e-04 -2.90846132e-04  5.08822450e-05  2.66708084e-04\n",
      " -2.61634705e-04  2.42926512e-06  1.07984415e-04 -5.71697776e-04\n",
      "  1.65872058e-04  4.25291073e-04  3.39572493e-04 -5.67810377e-04\n",
      " -3.24714405e-04 -2.32771108e-05  3.87398875e-04  3.41533334e-04\n",
      "  3.64327192e-04 -2.24918083e-04 -1.07392254e-04  5.36138890e-04\n",
      " -6.30840601e-04  2.99942476e-04  4.87217112e-05 -1.42246688e-04\n",
      "  2.90547556e-04 -1.51640750e-04 -2.45447445e-04 -1.91354786e-07\n",
      " -2.20694870e-04  1.64093108e-05 -4.23014659e-04 -1.52891109e-04\n",
      " -2.02745665e-04 -2.38923254e-04 -2.92118872e-04  5.80742781e-04\n",
      " -4.09721921e-04  1.97061891e-04 -2.01468036e-04 -8.34711173e-05\n",
      "  7.89661572e-05 -2.23368406e-04  2.59354332e-04 -9.85950974e-05\n",
      " -9.27594956e-05 -4.28162428e-04 -3.98886128e-04  9.66052030e-05\n",
      "  3.02405359e-04 -2.77240062e-04 -3.88800072e-05 -1.00911385e-03\n",
      " -4.69851773e-04 -2.07324283e-05  1.17948432e-04 -3.73512157e-04\n",
      " -6.49075082e-04  1.28848595e-04  2.49757111e-04 -2.04742653e-04\n",
      " -9.27916481e-05  3.49294016e-04  3.73313931e-04  6.89521839e-05\n",
      " -4.60785168e-06  7.05600018e-04 -2.03892676e-04 -2.01125033e-04\n",
      " -1.04301151e-04 -1.16772921e-04 -5.37211425e-04 -2.92276993e-04\n",
      "  2.18082947e-04 -5.58984641e-04 -1.28432643e-04  4.24520113e-04\n",
      " -4.91219689e-04  1.04124738e-04 -6.67047789e-05 -7.02523612e-05\n",
      "  3.96965101e-04 -2.78448497e-05  1.49415908e-04 -3.29904928e-04\n",
      "  2.96164158e-04  1.74052097e-04 -5.26475662e-04 -1.38889067e-04\n",
      "  4.68487735e-04  1.20984827e-04  6.15020865e-04 -2.61985115e-04\n",
      " -1.34035930e-04  1.60690997e-05  2.61905720e-04  8.96851816e-06\n",
      "  2.87538242e-05 -9.48749293e-05 -3.30793380e-04 -1.00561643e-04\n",
      " -1.43779078e-04 -5.73405414e-04  4.37458890e-04 -1.57778068e-05\n",
      "  1.48890424e-04  4.05842206e-04 -8.22543399e-04 -3.83830775e-04\n",
      " -1.84970577e-05 -2.50887068e-04  2.87688919e-04 -3.33551579e-04\n",
      " -2.83571979e-04 -1.70170053e-04 -2.66307470e-04  4.68630082e-04\n",
      "  4.91619685e-05  4.55333415e-04  2.24434407e-04  2.53530976e-04\n",
      "  3.44177475e-04  9.28963054e-05  7.06981882e-05  2.51509744e-04\n",
      "  3.50607297e-04  3.28018912e-04  4.92565101e-04  4.79240873e-04]\n",
      "____________________________________________________________________________________________________________________________________________________________________________________________________________________________________________________________________\n"
     ]
    }
   ],
   "source": [
    "index_to_print = 0  # Specify the index of the item to print\n",
    "v = X_train_vect_avg[index_to_print]\n",
    "\n",
    "sentence = X_train.iloc[index_to_print]\n",
    "print(\"Sentence:\", sentence)\n",
    "print(\"Length of sentence:\", len(sentence))\n",
    "print(\"Length of sentence vector:\", len(v))\n",
    "print(\"Sentence vector:\\n\", v)\n",
    "print(\"_\" * 260)"
   ]
  },
  {
   "cell_type": "code",
   "execution_count": 26,
   "metadata": {},
   "outputs": [
    {
     "name": "stdout",
     "output_type": "stream",
     "text": [
      "300\n"
     ]
    }
   ],
   "source": [
    "# print(len(X_test_vect_avg))\n",
    "print(len(X_train_vect_avg[0]))"
   ]
  },
  {
   "cell_type": "code",
   "execution_count": 27,
   "metadata": {},
   "outputs": [
    {
     "name": "stdout",
     "output_type": "stream",
     "text": [
      "371 300\n",
      "91 300\n",
      "18 300\n",
      "21 300\n",
      "127 300\n"
     ]
    }
   ],
   "source": [
    "# Are our sentence vector lengths consistent?\n",
    "for i, v in enumerate(X_train_vect_avg):\n",
    "    if i == 5:\n",
    "        break\n",
    "    print(len(X_train.iloc[i]), len(v))"
   ]
  },
  {
   "attachments": {},
   "cell_type": "markdown",
   "metadata": {},
   "source": [
    "## Print list of vocabulary in alphabetic order"
   ]
  },
  {
   "cell_type": "code",
   "execution_count": 28,
   "metadata": {},
   "outputs": [
    {
     "name": "stdout",
     "output_type": "stream",
     "text": [
      "['abc', 'abcd', 'abdoman', 'abdominal', 'abduction', 'ability', 'able', 'abnormal', 'abnormality', 'abscess', 'absence', 'abstinence', 'abuse', 'acanthosis', 'acceptable', 'accessory', 'accident', 'accomplish', 'accord', 'accurately', 'ace', 'achieve', 'acid', 'acidosis', 'acne', 'acquire', 'act', 'active', 'activities', 'activity', 'acute', 'add', 'adderall', 'addiction', 'addition', 'additional', 'address', 'adduction', 'adenoid', 'adenoma', 'adenopathy', 'adequate', 'adhd', 'adjust', 'adjustment', 'adl', 'adls', 'administer', 'admission', 'admit', 'adolescent', 'adrenal', 'adult', 'advil', 'advise', 'aerobic', 'afebrile', 'affect', 'african', 'afternoon', 'age', 'agent', 'agitation', 'ago', 'agree', 'ahead', 'airway', 'alcohol', 'alcoholic', 'alert', 'allergic', 'allergy', 'allow', 'also', 'alternative', 'ama', 'ambulate', 'ambulation', 'ambulator', 'american', 'ana', 'analgesia', 'analog', 'analysis', 'anastomosis', 'anatomic', 'anatomy', 'anca', 'anemia', 'angina', 'angio', 'ankle', 'anonymous', 'answer', 'anterior', 'anti', 'antiarrhythmic', 'antibiotic', 'anticoagulate', 'anticoagulation', 'antidepressant', 'antigen', 'antisocial', 'antrectomy', 'antrum', 'anuria', 'anxiety', 'anxious', 'aorta', 'aortic', 'apart', 'apb', 'apex', 'aphasia', 'apnea', 'apneic', 'apparent', 'apparently', 'appear', 'appearance', 'appendage', 'appetite', 'appointment', 'appropriate', 'appropriately', 'approximately', 'araiza', 'area', 'arm', 'arrange', 'arrangement', 'arrive', 'arteriosus', 'artery', 'arthralgia', 'arthritis', 'arthropathy', 'asbestos', 'asca', 'ask', 'aspect', 'asperger', 'aspiration', 'aspirin', 'assess', 'assessment', 'assistance', 'associate', 'assure', 'assuredly', 'asthma', 'astigmatism', 'asymmetry', 'atarax', 'ataxia', 'atelectasis', 'atheromatous', 'ativan', 'atopic', 'atraumatic', 'atrial', 'attack', 'attempt', 'attention', 'attribute', 'atypical', 'auditory', 'audits', 'auscultation', 'authority', 'automatic', 'av', 'available', 'avoid', 'awake', 'aware', 'away', 'axis', 'azithromycin', 'azotemia', 'bacteremia', 'bacterial', 'balance', 'ball', 'band', 'bariatric', 'basal', 'base', 'baseline', 'basic', 'basilar', 'basis', 'battery', 'bed', 'bedside', 'bedtime', 'begin', 'behavior', 'behavioral', 'believe', 'benefit', 'benzodiazepine', 'beta', 'beverage', 'bicarbonate', 'bicycle', 'bifurcate', 'bilateral', 'bilaterally', 'binge', 'biopsy', 'biot', 'bipolar', 'bit', 'bite', 'black', 'bleed', 'bleeding', 'block', 'blood', 'bloody', 'blow', 'blunt', 'body', 'bolus', 'bone', 'bony', 'boot', 'borderline', 'bothersome', 'bowel', 'brace', 'brain', 'branch', 'bread', 'breakdown', 'breakfast', 'breakthrough', 'breast', 'breath', 'breathe', 'brief', 'briefly', 'bring', 'broad', 'bronchiolitis', 'bronchitis', 'bronchodilator', 'brugada', 'bruise', 'bruxism', 'budget', 'bulb', 'bumex', 'bunion', 'bypass', 'calcific', 'calcification', 'calcium', 'calendar', 'calf', 'call', 'caloric', 'calorie', 'campral', 'cancer', 'candidate', 'candidiasis', 'cane', 'capsule', 'capture', 'carb', 'carbohydrate', 'carbonated', 'carboplatin', 'carcinoma', 'card', 'cardiac', 'cardiomyopathy', 'cardiovascular', 'care', 'carefully', 'carotid', 'carpal', 'carpometacarpal', 'carrot', 'case', 'cataract', 'category', 'caucasian', 'cause', 'caval', 'cavity', 'ccp', 'cecum', 'cefzil', 'celery', 'cell', 'cellulitis', 'center', 'central', 'cerebral', 'cerebri', 'cerebrovascular', 'certainly', 'certainty', 'cervical', 'cervicalgia', 'change', 'changeableness', 'check', 'chemotherapy', 'chest', 'chf', 'child', 'chip', 'chloride', 'choice', 'cholecystitis', 'cholesterol', 'chore', 'chronic', 'chronically', 'circulation', 'circumference', 'circumflex', 'cirrhosis', 'claimant', 'class', 'clear', 'clearly', 'client', 'clinic', 'clinical', 'clinically', 'close', 'closely', 'clostridium', 'club', 'cluster', 'cmh', 'cns', 'co', 'coagulopathy', 'cocaine', 'code', 'cognition', 'cognitive', 'coincide', 'colace', 'colchicine', 'cold', 'coli', 'colitis', 'colon', 'colonic', 'colonoscopy', 'color', 'combination', 'combine', 'come', 'comfort', 'command', 'common', 'communicate', 'communication', 'community', 'comorbid', 'comorbiditie', 'comparison', 'compensate', 'complain', 'complaint', 'complete', 'completely', 'completion', 'complex', 'compliance', 'compliant', 'complication', 'component', 'comprehension', 'compression', 'compulsive', 'concentrate', 'concern', 'concur', 'condition', 'conduction', 'conference', 'confidence', 'confident', 'conflict', 'congest', 'congestion', 'congestive', 'conjunctiva', 'conjunctivae', 'conner', 'consider', 'consideration', 'consistency', 'consistent', 'constipation', 'consult', 'consultation', 'consume', 'contact', 'contain', 'content', 'continuation', 'continue', 'continuous', 'contraception', 'contralateral', 'contribute', 'contribution', 'control', 'controlled', 'convenience', 'conventional', 'copd', 'copy', 'cord', 'core', 'coronary', 'correct', 'correction', 'correctly', 'corticosteroid', 'cough', 'coumadin', 'counsel', 'count', 'couple', 'course', 'cpap', 'cpk', 'cpt', 'cramp', 'craniotomy', 'craving', 'craze', 'creatinine', 'crepitation', 'cruise', 'crum', 'crust', 'crux', 'csf', 'ct', 'culture', 'cup', 'current', 'currently', 'cusp', 'cut', 'cx', 'cyanosis', 'cyberknife', 'cycle', 'cystitis', 'dada', 'daily', 'danger', 'date', 'datum', 'daughter', 'day', 'decadron', 'december', 'decide', 'decline', 'deconditione', 'decrease', 'deep', 'defect', 'defer', 'deficiency', 'deficit', 'deformity', 'degeneration', 'degenerative', 'degree', 'degrees', 'dehydration', 'delay', 'delineate', 'delirium', 'deliver', 'dementia', 'demonstrate', 'demonstration', 'dense', 'density', 'dental', 'depacon', 'depakote', 'depend', 'dependence', 'dependent', 'depressed', 'depression', 'depressive', 'derangement', 'derangements', 'dermatitis', 'dermatologist', 'desaturation', 'descend', 'describe', 'description', 'detected', 'determine', 'develop', 'development', 'dexa', 'dexterity', 'diabetes', 'diagnose', 'diagnoses', 'diagnosis', 'diagnostic', 'diagonal', 'dialytic', 'diameter', 'diarrhea', 'diary', 'diastolic', 'dictate', 'diet', 'dietary', 'dietician', 'differential', 'difficile', 'difficult', 'difficulty', 'digital', 'dilate', 'dinner', 'direct', 'direction', 'disability', 'disable', 'disabled', 'disc', 'discharge', 'discoid', 'discomfort', 'discontinuation', 'discontinue', 'discord', 'discourage', 'discuss', 'discussion', 'disease', 'disinhibite', 'dislocation', 'disorder', 'disorientation', 'display', 'dissatisfaction', 'distal', 'distance', 'distress', 'distribution', 'diuretic', 'diverticular', 'dizziness', 'dominance', 'dominant', 'doppler', 'dorsal', 'dorsiflexion', 'dosage', 'dose', 'download', 'dr', 'draw', 'drink', 'drop', 'drops', 'drug', 'duct', 'ductus', 'duration', 'dvt', 'dynamic', 'dysfunction', 'dyslipidemia', 'dysmenorrhea', 'dyspareunia', 'dysphagia', 'dysuria', 'ear', 'earache', 'early', 'easily', 'eat', 'echocardiogram', 'eczematous', 'edema', 'edition', 'education', 'educator', 'eeg', 'effect', 'effort', 'effusion', 'ejection', 'elbow', 'elbows', 'electrolyte', 'elevate', 'elevation', 'eliminate', 'emergency', 'emg', 'emotional', 'emphasis', 'emphasize', 'emphysema', 'enclose', 'encourage', 'end', 'endoscopy', 'endurance', 'energy', 'engage', 'enlarge', 'enlargement', 'enteritis', 'entirely', 'environment', 'epicondylar', 'epicondylitis', 'epididymitis', 'epilepsy', 'epilepticus', 'episode', 'episodes', 'epl', 'equal', 'equivalent', 'er', 'ergocalciferol', 'erythema', 'erythematosus', 'esophageal', 'esophagitis', 'esophagus', 'especially', 'essential', 'establish', 'estimate', 'estrange', 'et', 'etiology', 'eustachian', 'evaluate', 'evaluation', 'event', 'evidence', 'evolve', 'ex', 'exacerbation', 'exam', 'examination', 'examine', 'example', 'excellent', 'excess', 'excessive', 'excision', 'exclude', 'exercise', 'expect', 'expenditure', 'experience', 'explain', 'explanation', 'explore', 'expose', 'exposure', 'expressive', 'extension', 'extensive', 'extent', 'externa', 'external', 'extra', 'extramural', 'extraocular', 'extraverte', 'extremely', 'extremitie', 'extremity', 'eye', 'face', 'fact', 'factor', 'fail', 'failure', 'fair', 'fairly', 'fall', 'family', 'fasciculation', 'fascitis', 'fashion', 'fast', 'fat', 'father', 'fatigue', 'fatty', 'favorable', 'fax', 'febrile', 'february', 'feed', 'feel', 'female', 'femoral', 'femur', 'fenofibrate', 'fever', 'fiber', 'fibrillation', 'fibroglandular', 'fifth', 'film', 'filter', 'find', 'finding', 'fine', 'finger', 'fio', 'fit', 'fix', 'fixation', 'flank', 'flare', 'flat', 'flexion', 'floor', 'flow', 'flu', 'fluency', 'fluid', 'focal', 'folate', 'folliculitis', 'follow', 'followup', 'food', 'foot', 'forearm', 'forefoot', 'foreign', 'form', 'fossa', 'fourth', 'fraction', 'fracture', 'frequency', 'frequent', 'frequently', 'friend', 'fruit', 'frustration', 'function', 'functional', 'fusion', 'future', 'gabapentin', 'gaf', 'gain', 'gait', 'game', 'gardnerella', 'gastric', 'gastritis', 'gastro', 'gastroenteritis', 'gemfibrozil', 'general', 'generalize', 'generously', 'genitalia', 'gentleman', 'gerd', 'gestational', 'get', 'gfr', 'give', 'gland', 'glass', 'glaucoma', 'glioblastoma', 'global', 'glove', 'glucose', 'glycoprotein', 'go', 'goal', 'good', 'grade', 'gradually', 'graft', 'gram', 'grasp', 'gratification', 'great', 'greatly', 'green', 'groove', 'gross', 'grossly', 'group', 'growth', 'gu', 'guide', 'guideline', 'guidewire', 'gyn', 'gynecological', 'haldol', 'half', 'hall', 'hamstring', 'hand', 'handle', 'handout', 'happy', 'hazard', 'head', 'headache', 'headaches', 'health', 'healthy', 'hear', 'heart', 'heartburn', 'heel', 'heent', 'height', 'helmet', 'help', 'hemodialysis', 'hemodynamic', 'hemoptysis', 'hemorrhoid', 'hemorrhoids', 'hepatitis', 'her', 'hernia', 'herpe', 'hiatal', 'high', 'highly', 'hilar', 'hip', 'histology', 'history', 'hla', 'hobbies', 'hold', 'home', 'homocystine', 'hopeful', 'hopefully', 'hospital', 'hospitalization', 'hospitalize', 'hour', 'household', 'human', 'humerus', 'humor', 'hungry', 'huntington', 'hydrocephalus', 'hydronephrosis', 'hyperactivity', 'hypercalcemia', 'hyperlipidemia', 'hypertension', 'hypertensive', 'hyperuricemia', 'hypoalbuminemia', 'hypokalemia', 'hyponatremia', 'hypotension', 'hypothyroidism', 'hypoventilation', 'hypoxemia', 'hysterectomy', 'ia', 'ideation', 'identify', 'idiopathic', 'ii', 'iii', 'ileal', 'ileum', 'iliac', 'illness', 'illusion', 'image', 'imbalance', 'immunization', 'impact', 'impairment', 'impingement', 'impression', 'improve', 'improved', 'improvement', 'improving', 'impulsivity', 'inability', 'inadequate', 'inch', 'incident', 'include', 'incontinence', 'increase', 'indefinitely', 'independence', 'independent', 'independently', 'indeterminate', 'index', 'indicate', 'indication', 'individual', 'induce', 'inducible', 'indulgence', 'infect', 'infection', 'inflammation', 'inflammatory', 'influence', 'influenza', 'inform', 'infusion', 'ingrown', 'initiate', 'injection', 'injure', 'injury', 'inner', 'insect', 'insecure', 'insomnia', 'instability', 'instead', 'instrument', 'insufficiency', 'insufficient', 'insulin', 'intact', 'intake', 'intensity', 'intercurrent', 'interested', 'interim', 'intermedius', 'intermittent', 'internal', 'internist', 'interosseous', 'interpretable', 'intervention', 'interview', 'intoxication', 'intra', 'intracardiac', 'intravascular', 'intravenous', 'intrinsic', 'involve', 'involvement', 'iowa', 'iron', 'irregular', 'irritability', 'irritable', 'irritation', 'irs', 'ischemic', 'issue', 'item', 'iv', 'january', 'jargon', 'jaundice', 'jerk', 'joanne', 'join', 'joint', 'joints', 'joseph', 'judgment', 'juice', 'junction', 'june', 'karnofsky', 'keep', 'keppra', 'ketone', 'kg', 'knee', 'know', 'knowledge', 'kyphosis', 'lab', 'laboratory', 'labs', 'laceration', 'lack', 'lacrimal', 'lactulose', 'lad', 'lady', 'language', 'lap', 'large', 'lash', 'later', 'lateral', 'law', 'lay', 'leak', 'leave', 'left', 'leg', 'length', 'lesion', 'less', 'lethargy', 'letter', 'leukemia', 'leukocytosis', 'level', 'levophe', 'life', 'lift', 'light', 'like', 'likely', 'limit', 'limited', 'line', 'lipid', 'lipometabolism', 'list', 'listeria', 'liter', 'lithium', 'little', 'live', 'livedo', 'liver', 'lk', 'lm', 'lobe', 'lobectomy', 'local', 'localization', 'locate', 'location', 'long', 'longstande', 'look', 'loose', 'lose', 'loss', 'lot', 'low', 'luke', 'luman', 'lumbar', 'lumbosacral', 'lunch', 'lung', 'lupus', 'lymph', 'lymphadenopathy', 'lymphangitis', 'lymphoblastic', 'lymphocytosi', 'lymphoma', 'macular', 'main', 'maintain', 'maintenance', 'major', 'make', 'male', 'malfunction', 'malignant', 'manage', 'management', 'manic', 'manual', 'marginal', 'marital', 'marker', 'mart', 'mask', 'mass', 'masse', 'match', 'material', 'maximize', 'maximum', 'mcv', 'meal', 'measure', 'meat', 'mechanical', 'med', 'media', 'medial', 'mediastinal', 'medical', 'medication', 'medications', 'medicine', 'medium', 'meeting', 'mellitus', 'member', 'meningioma', 'meniscus', 'menopause', 'menorrhagia', 'mention', 'menu', 'metabolic', 'metacarpal', 'metastasis', 'metastatic', 'metatarsal', 'methylmalonic', 'mg', 'mi', 'mid', 'middle', 'migraine', 'mild', 'mildly', 'mind', 'minimal', 'minimize', 'minor', 'minute', 'minutes', 'mismatch', 'miss', 'mix', 'ml', 'mm', 'mmh', 'mmpi', 'mobic', 'mobility', 'moderate', 'moderately', 'modify', 'mom', 'moment', 'monitor', 'mononeuritis', 'month', 'mood', 'moodiness', 'moody', 'morning', 'mother', 'motion', 'motivation', 'motor', 'mound', 'movement', 'mr', 'mri', 'ms', 'mucocyst', 'mucosal', 'mucus', 'multifactorial', 'multiforme', 'multiple', 'multiplex', 'multiply', 'multivitamin', 'murmur', 'muscle', 'muscular', 'musculoskeletal', 'myalgias', 'myelopathic', 'myelopathy', 'myopathy', 'name', 'naprosyn', 'naris', 'nasal', 'nature', 'nausea', 'necessitate', 'neck', 'necrosis', 'need', 'needle', 'negative', 'nephrosis', 'nerve', 'neuroblastoma', 'neurologic', 'neurological', 'neuropathy', 'neutral', 'neutropenia', 'new', 'newly', 'ng', 'niddm', 'niece', 'night', 'nigrican', 'nod', 'node', 'nodosum', 'nodularity', 'non', 'noncardiac', 'noncontributory', 'nonconvulsive', 'nondisplace', 'nonneurologic', 'nonoperative', 'nonspecific', 'nontender', 'norm', 'normal', 'normally', 'normocephalic', 'nos', 'nose', 'not', 'notable', 'notably', 'note', 'noticeable', 'nph', 'number', 'numbness', 'numerous', 'nut', 'nutritional', 'nyquil', 'ob', 'obesity', 'obsessive', 'obstruction', 'obstructive', 'obtain', 'obvious', 'occasion', 'occupational', 'occur', 'oclock', 'official', 'old', 'oligoarticular', 'om', 'ompc', 'ongoing', 'onset', 'onychomycosis', 'oophorectomy', 'open', 'opiate', 'opinion', 'oppose', 'optimal', 'option', 'oral', 'orchiectomy', 'order', 'ordered', 'organism', 'organomegaly', 'origin', 'oropharynx', 'osteoarthritis', 'osteoarthrosis', 'osteochondral', 'osteopenia', 'osteoporosis', 'ostia', 'ostial', 'ostium', 'otitis', 'otorrhea', 'outer', 'outpatient', 'overall', 'overdose', 'overnight', 'overweight', 'oxygen', 'oxyhemoglobin', 'pace', 'pack', 'padding', 'pain', 'pains', 'palpable', 'palpation', 'palpitation', 'palsy', 'pancreatic', 'pancreatitis', 'panel', 'papillary', 'papilledema', 'paraesthesia', 'paralyze', 'paranoia', 'paraphasias', 'parathyroid', 'parenchyma', 'parent', 'paroxysmal', 'part', 'partial', 'participation', 'particularly', 'pass', 'past', 'pasta', 'patency', 'patent', 'pathological', 'pathology', 'patient', 'pattern', 'pcp', 'pe', 'pedal', 'pelvic', 'pen', 'pende', 'penicillin', 'peptic', 'percent', 'percentanatomic', 'percentile', 'percocet', 'percutaneous', 'perforation', 'perform', 'performance', 'pericardial', 'pericardium', 'period', 'peripheral', 'permanent', 'perseverate', 'person', 'personality', 'pharyngitis', 'phentermine', 'phone', 'physical', 'physician', 'physiology', 'pick', 'picture', 'piedmont', 'pincer', 'pink', 'pip', 'place', 'placement', 'plan', 'plane', 'planovalgus', 'plantar', 'plaque', 'plaquenil', 'plate', 'plateau', 'plateaue', 'plavix', 'play', 'pleasant', 'pleasure', 'pleural', 'plus', 'pneumonia', 'pneumonitis', 'point', 'polyp', 'poor', 'portion', 'position', 'positive', 'possibility', 'possible', 'possibly', 'post', 'posterior', 'posteriorly', 'posterolateral', 'postoperative', 'postprandial', 'postprocedure', 'postsurgical', 'posttraumatic', 'potassium', 'potato', 'potential', 'potentially', 'pound', 'ppd', 'precipitate', 'precipitating', 'predict', 'prednisone', 'predominant', 'pregnancy', 'prenatal', 'preoperative', 'preparation', 'prepare', 'presbyopia', 'prescription', 'presence', 'present', 'pressure', 'presumably', 'presumptive', 'prevent', 'previous', 'previously', 'primarily', 'primary', 'prior', 'probability', 'probable', 'probably', 'problem', 'problematic', 'procedure', 'proceed', 'process', 'produce', 'production', 'profile', 'prognosis', 'program', 'progress', 'progressive', 'prolong', 'prone', 'proper', 'prophylaxis', 'prostate', 'protein', 'proteinuria', 'protonix', 'protopic', 'provide', 'proximal', 'psa', 'pseudotumor', 'psychiatric', 'psychological', 'psychosomatic', 'psychotherapy', 'pt', 'pull', 'pulley', 'pulmonary', 'pulse', 'pump', 'pupil', 'pursue', 'purulent', 'pylori', 'quadrant', 'quality', 'question', 'questionable', 'radiation', 'radiculopathy', 'radiographic', 'radiologically', 'raise', 'ramus', 'range', 'rapid', 'rare', 'rash', 'rate', 'ratio', 'raw', 'ray', 'rca', 'reach', 'react', 'reaction', 'reactive', 'read', 'rearrange', 'reason', 'reasonable', 'reassess', 'rebound', 'recall', 'receive', 'recent', 'recently', 'receptive', 'receptor', 'recheck', 'recognition', 'recognize', 'recommend', 'recommendation', 'recommendations', 'record', 'recover', 'rectal', 'recurrent', 'red', 'reduce', 'reduction', 'refer', 'referable', 'referral', 'refine', 'reflect', 'reflex', 'reflux', 'refractory', 'regard', 'regiman', 'region', 'reglan', 'regular', 'rehab', 'rehabilitation', 'reintubation', 'relapse', 'relate', 'release', 'reliance', 'relieve', 'relocation', 'remain', 'remember', 'remodel', 'remote', 'removal', 'renal', 'repair', 'repeat', 'repeatedly', 'repetition', 'replacement', 'replete', 'report', 'represent', 'request', 'require', 'requirement', 'requisition', 'reschedule', 'resection', 'resemble', 'residual', 'resist', 'resistant', 'resolve', 'resolved', 'respiratory', 'respond', 'response', 'responsive', 'rest', 'restlessness', 'restoril', 'restrict', 'restriction', 'result', 'retention', 'reticularis', 'retraction', 'retrolisthesis', 'return', 'reveal', 'review', 'rheumatoid', 'rheumatology', 'rhinitis', 'rhythm', 'rice', 'ride', 'right', 'rise', 'risk', 'robitussin', 'room', 'root', 'rotation', 'round', 'routine', 'rsv', 'rule', 'run', 'rvvt', 'sacroiliitis', 'safety', 'saline', 'salpingo', 'sample', 'sarcoid', 'saturation', 'say', 'scale', 'scan', 'scant', 'scar', 'schedule', 'schizoaffective', 'schizophrenia', 'sclerae', 'scoliosis', 'score', 'screen', 'screw', 'scribble', 'second', 'secondary', 'secretion', 'sedate', 'sedation', 'see', 'seizure', 'seizures', 'select', 'selection', 'self', 'send', 'senior', 'sense', 'sensitivity', 'sensory', 'sentence', 'separate', 'sepsis', 'septic', 'septicemia', 'sequential', 'serology', 'serous', 'serve', 'service', 'serving', 'session', 'set', 'seven', 'severe', 'severity', 'sexual', 'shimada', 'shock', 'short', 'shortness', 'shoulder', 'show', 'shunt', 'shut', 'si', 'sick', 'side', 'sign', 'significance', 'significant', 'similar', 'simple', 'simplex', 'single', 'sino', 'sinus', 'sinusitis', 'sister', 'sit', 'site', 'situation', 'size', 'skeletal', 'skill', 'skilled', 'skin', 'sleep', 'slightly', 'slow', 'slowly', 'small', 'smart', 'snack', 'sobriety', 'social', 'soft', 'solid', 'somewhat', 'soon', 'sore', 'soreness', 'sound', 'source', 'spare', 'special', 'specific', 'specifically', 'specify', 'speckled', 'spectrum', 'speech', 'spell', 'spinal', 'spine', 'splint', 'spondylosis', 'spontaneous', 'sport', 'sprain', 'spread', 'sprint', 'spur', 'st', 'stability', 'stabilization', 'stabilize', 'stable', 'staff', 'stage', 'stain', 'stand', 'stark', 'start', 'state', 'status', 'ste', 'stenosis', 'stent', 'stente', 'stereotactic', 'steroid', 'stimulus', 'stomach', 'stomachache', 'stone', 'stool', 'stoop', 'stop', 'strain', 'strategy', 'strength', 'streptococcus', 'stress', 'stressor', 'strife', 'strike', 'stroke', 'strongly', 'studies', 'study', 'subdural', 'suboptimally', 'subsequent', 'subsequently', 'substance', 'substantial', 'subt', 'succeed', 'success', 'successful', 'succinylcholine', 'suffer', 'sufficient', 'sugar', 'suggest', 'suggestion', 'suggestive', 'suicidal', 'suicide', 'suitable', 'sulfa', 'summary', 'superimpose', 'supple', 'supplement', 'supplemental', 'supplementary', 'supply', 'support', 'supranuclear', 'suprascapular', 'sure', 'surface', 'surgery', 'surgical', 'surround', 'suspect', 'suspicious', 'sustain', 'suture', 'swallow', 'swelling', 'swim', 'swing', 'swings', 'switch', 'symmetrical', 'symptom', 'symptomatic', 'symptomatology', 'syncope', 'syncytial', 'syndrome', 'synovitis', 'syringe', 'system', 'systemic', 'systolic', 'tablet', 'tachycardia', 'take', 'talk', 'tamponade', 'tanner', 'tap', 'taper', 'task', 'tasks', 'taxol', 'tcu', 'teach', 'team', 'tear', 'technically', 'technique', 'teething', 'tell', 'temperature', 'temporarily', 'tend', 'tenderness', 'tendinitis', 'term', 'terminal', 'terrace', 'test', 'testicular', 'testing', 'th', 'thank', 'therapist', 'therapy', 'thiamine', 'thicken', 'thickening', 'thing', 'think', 'thoracic', 'though', 'threaten', 'thrive', 'throat', 'thrombocythemia', 'thromboembolic', 'thrombolytic', 'thrombosis', 'thrombus', 'thrush', 'thumb', 'thyroid', 'tibial', 'time', 'timing', 'timolol', 'tingle', 'tiredness', 'tissue', 'titrate', 'tmj', 'tms', 'tobacco', 'today', 'toe', 'toenail', 'tolerance', 'tolerate', 'tomorrow', 'topamax', 'total', 'totally', 'touch', 'tourniquet', 'town', 'track', 'tract', 'traditional', 'training', 'transaminases', 'transesophageal', 'transfer', 'transient', 'transverse', 'tranxene', 'trauma', 'trazodone', 'treat', 'treatment', 'trial', 'tricor', 'trifurcate', 'trigger', 'triglyceride', 'trileptal', 'trizivir', 'trouble', 'trust', 'try', 'tsh', 'tube', 'tuberculosis', 'tubular', 'tunnel', 'turgor', 'turn', 'twice', 'tylenol', 'type', 'typical', 'ulcer', 'ultrasound', 'unable', 'unawareness', 'uncertain', 'unclear', 'uncontrolle', 'undergo', 'underlie', 'understand', 'underwent', 'unemployed', 'unequivocally', 'unfortunate', 'unintelligible', 'unintentional', 'unit', 'unknown', 'unlikely', 'unremarkable', 'unstable', 'untreated', 'unusual', 'upcoming', 'update', 'upgaze', 'upper', 'upwards', 'ureteral', 'urgency', 'uri', 'urinary', 'urination', 'urine', 'usage', 'use', 'usual', 'uterine', 'uti', 'vaccination', 'vaginosis', 'valgus', 'valid', 'value', 'valve', 'variety', 'varix', 'vascular', 'vasomotor', 'vasopressor', 'vegetable', 'vein', 'velocity', 'vena', 'venous', 'venovenous', 'ventilator', 'ventricle', 'ventricular', 'verbal', 'verbalize', 'verbally', 'verify', 'verse', 'versus', 'vessel', 'violate', 'viral', 'virus', 'vision', 'visit', 'visits', 'visual', 'visualization', 'visualize', 'visually', 'vital', 'vitamin', 'volume', 'vomit', 'wait', 'wal', 'walk', 'walker', 'wall', 'want', 'warm', 'wasp', 'watch', 'water', 'watery', 'weakness', 'wear', 'week', 'weeks', 'weigh', 'weight', 'well', 'welsh', 'western', 'weston', 'wheeze', 'white', 'widespread', 'wife', 'willing', 'window', 'with', 'withdrawal', 'woman', 'word', 'work', 'worker', 'workup', 'worrisome', 'worry', 'worsen', 'worthwhile', 'wrist', 'write', 'xs', 'xyz', 'year', 'yeast', 'yes', 'yesterday', 'young', 'zinc', 'zs', 'zyprexa']\n"
     ]
    }
   ],
   "source": [
    "model_keys = X_total_loaded_w2vec_model.wv.key_to_index\n",
    "vocabulary = (sorted([w for w in model_keys]))\n",
    "print((vocabulary))"
   ]
  },
  {
   "cell_type": "code",
   "execution_count": 29,
   "metadata": {},
   "outputs": [
    {
     "data": {
      "text/plain": [
       "array([ 1.83474889e-03,  2.28774361e-03,  2.08374648e-03, -3.09358910e-03,\n",
       "        3.19550117e-03, -2.74993689e-03,  2.54694984e-04,  7.25002974e-05,\n",
       "        2.40754592e-03, -2.89558782e-03,  1.01652718e-03, -2.06359592e-03,\n",
       "        1.65739516e-06,  2.47204956e-03, -3.10672051e-03,  3.27065657e-03,\n",
       "       -3.04753636e-03,  2.24688696e-03, -2.73572304e-03, -2.23116949e-03,\n",
       "       -2.75747967e-03,  1.98456156e-03, -8.26276024e-04,  5.87644230e-04,\n",
       "       -2.92688189e-03,  3.34107503e-03,  9.67260217e-04, -1.43547426e-03,\n",
       "       -1.10136461e-03,  2.65712105e-03,  1.00032846e-03, -3.25310230e-03,\n",
       "        1.10151398e-03, -1.87419937e-03,  7.38832809e-04,  2.66487501e-03,\n",
       "       -4.29478416e-04,  3.84559571e-05,  2.01665447e-03, -1.96496467e-03,\n",
       "        1.15564454e-03,  1.35298190e-03, -3.17526632e-03, -1.25331769e-03,\n",
       "        2.66757817e-03,  5.98073297e-04,  3.13895498e-03, -5.29342506e-04,\n",
       "        2.77526164e-03, -2.75296788e-03,  1.77697756e-03, -2.92857224e-03,\n",
       "        8.74481571e-04,  2.80192355e-03, -7.34705362e-04,  2.53278227e-03,\n",
       "       -3.13601899e-03, -2.51474266e-04,  1.33590144e-03, -1.78331754e-03,\n",
       "        2.46102083e-03, -2.41969386e-03, -3.39931546e-04,  3.06946901e-03,\n",
       "        2.65706074e-03,  2.88198586e-04,  3.27001838e-03, -3.25157563e-03,\n",
       "       -1.04345288e-03,  8.72578530e-04, -8.22940667e-04,  1.76678202e-03,\n",
       "        2.59259203e-03, -1.32527866e-03, -7.52384367e-04,  3.18588107e-03,\n",
       "       -2.16112775e-03, -2.92679481e-03, -1.92940235e-04, -2.57713813e-03,\n",
       "        2.97101040e-04,  6.10007730e-04, -2.53787357e-03, -1.88655496e-04,\n",
       "       -1.60511967e-03, -9.02614731e-04,  7.86367804e-04,  1.30725815e-03,\n",
       "       -8.32643360e-04,  2.84513645e-03,  2.72906997e-04,  2.39117583e-03,\n",
       "        1.11069763e-03,  1.49544026e-03,  3.38574545e-03, -1.39026879e-03,\n",
       "        1.74714791e-04, -1.29636691e-03,  1.35210645e-03, -2.11259397e-03,\n",
       "       -7.62191776e-04,  2.51971954e-03, -9.46912216e-04,  1.17212452e-03,\n",
       "        9.59193712e-05,  4.09905013e-04, -1.86661026e-04, -2.82393349e-03,\n",
       "        2.90888874e-03,  2.29788222e-03, -3.25892470e-03, -2.45510880e-03,\n",
       "        7.15786940e-04,  3.32955242e-05, -8.90295953e-04,  2.92478595e-03,\n",
       "       -2.96958443e-03, -9.97376395e-04,  2.55652773e-03, -3.56365112e-04,\n",
       "       -1.82475604e-03,  2.99689849e-03,  2.27339310e-03, -1.29001949e-03,\n",
       "       -2.47453852e-03, -2.77532643e-04,  2.82461662e-03, -8.24432820e-04,\n",
       "        1.59571518e-03, -6.17476646e-04,  1.35881733e-03, -4.31247317e-04,\n",
       "        2.07938044e-03,  3.23343277e-03, -2.77705374e-03,  2.09496077e-03,\n",
       "       -2.51245359e-03, -3.11610266e-03,  1.79279293e-03,  7.17330608e-04,\n",
       "        1.79310329e-03, -3.28299170e-03,  2.71712802e-03, -2.76940921e-03,\n",
       "       -2.15887022e-03,  4.86228644e-04, -1.49929686e-03,  7.98188965e-04,\n",
       "       -1.71678804e-03, -2.22996227e-03,  2.11091363e-03, -7.23115576e-04,\n",
       "        2.08483473e-03, -9.90053639e-04, -2.99652194e-04,  1.43123930e-03,\n",
       "        2.27499008e-03, -6.10150862e-04, -3.34100542e-03, -7.35464972e-04,\n",
       "        2.36508134e-03,  2.22143135e-03, -2.15719361e-03,  1.18893466e-03,\n",
       "        3.19871795e-03, -2.61367252e-03,  4.67350110e-05,  2.52121012e-04,\n",
       "       -1.99198932e-03, -1.76575442e-03,  1.70620554e-03, -1.52645900e-03,\n",
       "       -1.62477465e-03,  7.50744541e-04,  3.04328674e-03,  2.44685658e-03,\n",
       "       -1.82880205e-03, -9.69550980e-04,  2.98649399e-03,  9.65948493e-05,\n",
       "       -1.67898089e-03, -2.78070988e-03, -1.83720875e-03,  1.82364124e-03,\n",
       "        7.38935021e-04, -2.17133365e-03,  2.08570436e-03, -6.25525077e-04,\n",
       "       -1.05460895e-04, -1.55648496e-03,  1.12611137e-03,  1.82074626e-04,\n",
       "        6.36882265e-04, -1.28535880e-03, -9.92515939e-04, -2.67860800e-04,\n",
       "       -1.32596865e-03, -4.13105357e-04,  2.68157059e-03,  7.71442079e-04,\n",
       "        1.96841848e-03,  1.27077231e-03,  5.78327803e-04,  1.75379057e-04,\n",
       "        2.91716075e-03,  1.58878497e-03, -2.61772447e-03,  2.69640028e-03,\n",
       "       -1.79102924e-03, -3.14653589e-04, -3.02292523e-03, -3.10203061e-03,\n",
       "       -1.27959962e-03,  1.79728121e-03,  5.95639169e-04, -2.87801784e-04,\n",
       "       -1.89431221e-03,  1.81925565e-03,  2.67121475e-03,  2.27660360e-03,\n",
       "       -2.58112326e-04, -2.85757915e-03,  2.59910244e-03, -7.06774183e-04,\n",
       "        7.54280773e-04,  1.59797608e-03,  3.21590155e-03, -2.87168048e-04,\n",
       "       -1.57768209e-03, -3.00764601e-04,  1.05977734e-03, -1.63609671e-04,\n",
       "       -5.92659693e-04,  3.25288507e-03,  7.94384745e-04, -1.73051655e-03,\n",
       "        3.17808520e-03, -2.21222057e-03, -9.56015720e-04,  1.73808681e-03,\n",
       "       -1.95475086e-03,  2.18260847e-03, -2.17729155e-03, -3.02405306e-03,\n",
       "       -3.00882757e-03,  6.76961674e-04,  1.98137807e-03,  2.35944265e-03,\n",
       "        9.51913011e-04,  1.49427762e-03, -1.61573145e-04, -2.35875649e-03,\n",
       "        3.35289934e-03, -2.18215352e-03,  2.29401467e-03, -3.59626312e-04,\n",
       "       -3.33748176e-04, -7.51991000e-04,  2.58816010e-03, -2.25580088e-03,\n",
       "        7.14183727e-04,  1.47192215e-04,  3.88518587e-04, -2.07215734e-03,\n",
       "       -2.82422011e-03, -2.76527228e-03, -1.26789627e-03, -1.05134430e-04,\n",
       "       -2.11373693e-03,  2.93204910e-03,  8.37059459e-04, -2.32269452e-03,\n",
       "       -1.67693768e-03, -1.99040375e-03, -2.64248182e-03,  9.63781786e-05,\n",
       "       -3.21408181e-04,  3.03542521e-03,  1.41181343e-03, -3.47912428e-04,\n",
       "        3.11934948e-03, -1.92438683e-03, -3.01521923e-03,  4.85975237e-04,\n",
       "       -1.96567643e-03, -1.25353446e-03,  6.61057595e-04, -2.55484297e-03,\n",
       "       -6.05377660e-04,  9.73876915e-04,  4.69737075e-04, -3.93199211e-04,\n",
       "       -2.75293161e-04,  3.07717663e-03,  1.03009620e-03, -7.22062076e-04,\n",
       "       -1.69516681e-03, -2.29854044e-03, -4.65330028e-04, -1.14684796e-03],\n",
       "      dtype=float32)"
      ]
     },
     "execution_count": 29,
     "metadata": {},
     "output_type": "execute_result"
    }
   ],
   "source": [
    "X_total_loaded_w2vec_model.wv[\"weight\"]"
   ]
  },
  {
   "cell_type": "code",
   "execution_count": 30,
   "metadata": {},
   "outputs": [
    {
     "name": "stdout",
     "output_type": "stream",
     "text": [
      "[('depression', 0.24266071617603302), ('multiforme', 0.2030278891324997), ('stressor', 0.19599808752536774), ('dissatisfaction', 0.17594361305236816), ('watch', 0.1721128523349762)]\n"
     ]
    }
   ],
   "source": [
    "word = 'bone'  # Change this to the word you want to find similar words for\n",
    "topn = 5  # Number of similar words to retrieve\n",
    "\n",
    "similar_words = X_total_loaded_w2vec_model.wv.most_similar(word, topn=topn)\n",
    "print(similar_words)"
   ]
  },
  {
   "cell_type": "code",
   "execution_count": 31,
   "metadata": {},
   "outputs": [
    {
     "name": "stdout",
     "output_type": "stream",
     "text": [
      "0.0075980374\n",
      "0.013142026\n"
     ]
    }
   ],
   "source": [
    "test_one = X_total_loaded_w2vec_model.wv.similarity('bone', 'stroke')\n",
    "test_two = X_total_loaded_w2vec_model.wv.similarity('brain', 'stroke')\n",
    "\n",
    "print(test_one)\n",
    "print(test_two)\n"
   ]
  },
  {
   "attachments": {},
   "cell_type": "markdown",
   "metadata": {},
   "source": [
    "# Apply Machine Learning Model"
   ]
  },
  {
   "attachments": {},
   "cell_type": "markdown",
   "metadata": {},
   "source": [
    "## RandomForrest"
   ]
  },
  {
   "attachments": {},
   "cell_type": "markdown",
   "metadata": {},
   "source": [
    "https://medium.com/analytics-vidhya/random-forest-classifier-and-its-hyperparameters-8467bec755f6\n"
   ]
  },
  {
   "cell_type": "code",
   "execution_count": 32,
   "metadata": {},
   "outputs": [],
   "source": [
    "# Instantiate and fit a basic Random Forest model on top of the vectors\n",
    "from sklearn.ensemble import RandomForestClassifier\n",
    "\n",
    "rf = RandomForestClassifier()\n",
    "rf_model = rf.fit(X_train_vect_avg, y_train.values.ravel())"
   ]
  },
  {
   "cell_type": "code",
   "execution_count": 33,
   "metadata": {},
   "outputs": [],
   "source": [
    "# Use the trained model to make predictions on the test data\n",
    "y_pred=rf_model.predict(X_test_vect_avg)"
   ]
  },
  {
   "attachments": {},
   "cell_type": "markdown",
   "metadata": {},
   "source": [
    "## Support Vector Machine"
   ]
  },
  {
   "cell_type": "code",
   "execution_count": 34,
   "metadata": {},
   "outputs": [],
   "source": [
    "from sklearn import svm\n",
    "\n",
    "svm = svm.SVC(C=1, kernel='rbf')\n",
    "svm_model = svm.fit(X_train_vect_avg, y_train.values.ravel())\n"
   ]
  },
  {
   "attachments": {},
   "cell_type": "markdown",
   "metadata": {},
   "source": [
    "## Evaluation"
   ]
  },
  {
   "attachments": {},
   "cell_type": "markdown",
   "metadata": {},
   "source": [
    "### Random Forrest - Cross Validation"
   ]
  },
  {
   "cell_type": "code",
   "execution_count": 35,
   "metadata": {},
   "outputs": [
    {
     "name": "stdout",
     "output_type": "stream",
     "text": [
      "[0.8245614  0.87719298 0.85964912 0.85714286 0.875     ]\n"
     ]
    }
   ],
   "source": [
    "from sklearn.model_selection import cross_val_score\n",
    "\n",
    "\n",
    "cv_scores = cross_val_score(rf_model, X_train_vect_avg, y_train.values.ravel(), cv=5)\n",
    "print(cv_scores)"
   ]
  },
  {
   "attachments": {},
   "cell_type": "markdown",
   "metadata": {},
   "source": [
    "### SVM Cross Validation"
   ]
  },
  {
   "cell_type": "code",
   "execution_count": 36,
   "metadata": {},
   "outputs": [
    {
     "name": "stdout",
     "output_type": "stream",
     "text": [
      "[0.71929825 0.87719298 0.78947368 0.76785714 0.875     ]\n"
     ]
    }
   ],
   "source": [
    "from sklearn.model_selection import cross_val_score\n",
    "\n",
    "\n",
    "cv_scores = cross_val_score(svm_model, X_train_vect_avg, y_train.values.ravel(), cv=5)\n",
    "print(cv_scores)"
   ]
  },
  {
   "attachments": {},
   "cell_type": "markdown",
   "metadata": {},
   "source": [
    "## Classification Report & Confusion Matrix"
   ]
  },
  {
   "cell_type": "code",
   "execution_count": 50,
   "metadata": {},
   "outputs": [
    {
     "name": "stdout",
     "output_type": "stream",
     "text": [
      "Model-Evaluation for:  RandomForestClassifier()\n",
      "Precision: 0.9 / Recall: 0.973 / Accuracy: 0.93 / F1 Score: 0.935 \n"
     ]
    },
    {
     "data": {
      "image/png": "[encoded data removed]",
      "text/plain": [
       "<Figure size 400x400 with 2 Axes>"
      ]
     },
     "metadata": {},
     "output_type": "display_data"
    }
   ],
   "source": [
    "from sklearn.metrics import confusion_matrix\n",
    "from sklearn.metrics import ConfusionMatrixDisplay\n",
    "from sklearn.metrics import precision_score, recall_score\n",
    "import matplotlib.pyplot as plt\n",
    "\n",
    "model_evaluation = rf_model    #rf_model / svm_model\n",
    "\n",
    "\n",
    "y_pred=model_evaluation.predict(X_test_vect_avg)\n",
    "\n",
    "\n",
    "precision = precision_score(y_test, y_pred)\n",
    "recall = recall_score(y_test, y_pred)\n",
    "f1_score = 2 * (precision * recall) / (precision + recall)\n",
    "\n",
    "\n",
    "print(\"Model-Evaluation for: \", model_evaluation)\n",
    "print('Precision: {} / Recall: {} / Accuracy: {} / F1 Score: {} '.format(\n",
    "    round(precision, 3), round(recall, 3), round((y_pred==y_test).sum()/len(y_pred), 3), round(f1_score, 3)\n",
    "    ))\n",
    "\n",
    "\n",
    "\n",
    "fig, ax = plt.subplots(figsize=(4, 4))\n",
    "\n",
    "display = ConfusionMatrixDisplay.from_estimator(model_evaluation, X_train_vect_avg, y_train.values.ravel(), normalize=\"all\", ax=ax)\n",
    "\n"
   ]
  },
  {
   "attachments": {},
   "cell_type": "markdown",
   "metadata": {},
   "source": [
    "## Choose the best model accordingly to f1 score"
   ]
  },
  {
   "cell_type": "code",
   "execution_count": 38,
   "metadata": {},
   "outputs": [],
   "source": [
    "def model_evaluation(model_type):\n",
    "    \n",
    "    y_pred=model_type.predict(X_test_vect_avg)\n",
    "\n",
    "\n",
    "    precision = precision_score(y_test, y_pred)\n",
    "    recall = recall_score(y_test, y_pred)\n",
    "    f1_score = 2 * (precision * recall) / (precision + recall)\n",
    "    return precision, recall, f1_score"
   ]
  },
  {
   "cell_type": "code",
   "execution_count": 39,
   "metadata": {},
   "outputs": [
    {
     "name": "stdout",
     "output_type": "stream",
     "text": [
      "Better model:  RandomForestClassifier()\n",
      "Report: \n",
      " f1 score =  0.935064935064935\n"
     ]
    }
   ],
   "source": [
    "#rf_model / svm_model\n",
    "rf_precision, rf_recall, rf_f1score = model_evaluation(rf_model)\n",
    "svm_precision, svm_recall, svm_f1score = model_evaluation(svm_model)\n",
    "\n",
    "if rf_f1score > svm_f1score:\n",
    "    best_model = rf_model\n",
    "else:\n",
    "    best_model = svm_model\n",
    "\n",
    "best_precision, best_recall, best_f1score = model_evaluation(best_model)\n",
    "\n",
    "print(\"Better model: \", best_model)\n",
    "print(\"Report: \\n\", \"f1 score = \", best_f1score)\n"
   ]
  },
  {
   "attachments": {},
   "cell_type": "markdown",
   "metadata": {},
   "source": [
    "## Save best performing model"
   ]
  },
  {
   "cell_type": "code",
   "execution_count": 40,
   "metadata": {},
   "outputs": [],
   "source": [
    "# import pickle\n",
    "# from sklearn.ensemble import RandomForestClassifier\n",
    "\n",
    "# titel = \"\"\n",
    "\n",
    "# classifier = best_model\n",
    "# if classifier == svm_model:\n",
    "#     titel =\"pickles/svm_classifier.pkl\"\n",
    "# if classifier == rf_model:\n",
    "#     titel =\"pickles/random_forest_classifier.pkl\"\n",
    "\n",
    "# print(titel)"
   ]
  },
  {
   "cell_type": "code",
   "execution_count": 41,
   "metadata": {},
   "outputs": [],
   "source": [
    "# with open(titel, 'wb') as file:\n",
    "#     pickle.dump(classifier, file)"
   ]
  },
  {
   "attachments": {},
   "cell_type": "markdown",
   "metadata": {},
   "source": [
    "# Tuning Model Hyperparameters - Grid -Search"
   ]
  },
  {
   "attachments": {},
   "cell_type": "markdown",
   "metadata": {},
   "source": [
    "Tuning Random Forrest: https://towardsdatascience.com/hyperparameter-tuning-the-random-forest-in-python-using-scikit-learn-28d2aa77dd74"
   ]
  },
  {
   "cell_type": "code",
   "execution_count": 42,
   "metadata": {},
   "outputs": [],
   "source": [
    "clf_reloaded = pickle.load(open(\"pickles/random_forest_classifier.pkl\",'rb'))"
   ]
  },
  {
   "cell_type": "code",
   "execution_count": 43,
   "metadata": {},
   "outputs": [
    {
     "name": "stdout",
     "output_type": "stream",
     "text": [
      "Random Forest Parameters:\n",
      "bootstrap: True\n",
      "ccp_alpha: 0.0\n",
      "class_weight: None\n",
      "criterion: gini\n",
      "max_depth: None\n",
      "max_features: sqrt\n",
      "max_leaf_nodes: None\n",
      "max_samples: None\n",
      "min_impurity_decrease: 0.0\n",
      "min_samples_leaf: 1\n",
      "min_samples_split: 2\n",
      "min_weight_fraction_leaf: 0.0\n",
      "n_estimators: 100\n",
      "n_jobs: None\n",
      "oob_score: False\n",
      "random_state: None\n",
      "verbose: 0\n",
      "warm_start: False\n"
     ]
    }
   ],
   "source": [
    "# Get the parameters used in the Random Forest model\n",
    "params = clf_reloaded.get_params()\n",
    "\n",
    "# Print the parameters in a structured format\n",
    "print(\"Random Forest Parameters:\")\n",
    "for param, value in params.items():\n",
    "    print(f\"{param}: {value}\")"
   ]
  },
  {
   "cell_type": "code",
   "execution_count": 44,
   "metadata": {},
   "outputs": [],
   "source": [
    "clf_reloaded = pickle.load(open(\"pickles/random_forest_classifier.pkl\",'rb'))\n",
    "rf = clf_reloaded\n",
    "params = param_grid = {\n",
    "    \"bootstrap\": [True],\n",
    "    \"max_depth\": [10, 20, None],\n",
    "    \"max_features\": [\"sqrt\", \"log2\", None],\n",
    "    \"min_samples_leaf\": [1, 2, 4],\n",
    "    \"min_samples_split\": [2, 5, 10],\n",
    "    \"n_estimators\": [100, 200]}\n",
    "\n"
   ]
  },
  {
   "cell_type": "code",
   "execution_count": 45,
   "metadata": {},
   "outputs": [],
   "source": [
    "from sklearn.model_selection import GridSearchCV\n",
    "# Instantiate the grid search model\n",
    "grid_search = GridSearchCV(estimator=rf,\n",
    "                           param_grid=params,\n",
    "                           cv = 5,\n",
    "                           n_jobs=-1,\n",
    "                           verbose=1)"
   ]
  },
  {
   "cell_type": "code",
   "execution_count": 46,
   "metadata": {},
   "outputs": [
    {
     "name": "stdout",
     "output_type": "stream",
     "text": [
      "Fitting 5 folds for each of 162 candidates, totalling 810 fits\n"
     ]
    },
    {
     "ename": "KeyboardInterrupt",
     "evalue": "",
     "output_type": "error",
     "traceback": [
      "\u001b[1;31m---------------------------------------------------------------------------\u001b[0m",
      "\u001b[1;31mKeyboardInterrupt\u001b[0m                         Traceback (most recent call last)",
      "Cell \u001b[1;32mIn[46], line 1\u001b[0m\n\u001b[1;32m----> 1\u001b[0m grid_search\u001b[39m.\u001b[39;49mfit(X_train_vect_avg, y_train\u001b[39m.\u001b[39;49mvalues\u001b[39m.\u001b[39;49mravel())\n",
      "File \u001b[1;32mc:\\Users\\Tim\\AppData\\Local\\Programs\\Python\\Python311\\Lib\\site-packages\\sklearn\\model_selection\\_search.py:874\u001b[0m, in \u001b[0;36mBaseSearchCV.fit\u001b[1;34m(self, X, y, groups, **fit_params)\u001b[0m\n\u001b[0;32m    868\u001b[0m     results \u001b[39m=\u001b[39m \u001b[39mself\u001b[39m\u001b[39m.\u001b[39m_format_results(\n\u001b[0;32m    869\u001b[0m         all_candidate_params, n_splits, all_out, all_more_results\n\u001b[0;32m    870\u001b[0m     )\n\u001b[0;32m    872\u001b[0m     \u001b[39mreturn\u001b[39;00m results\n\u001b[1;32m--> 874\u001b[0m \u001b[39mself\u001b[39;49m\u001b[39m.\u001b[39;49m_run_search(evaluate_candidates)\n\u001b[0;32m    876\u001b[0m \u001b[39m# multimetric is determined here because in the case of a callable\u001b[39;00m\n\u001b[0;32m    877\u001b[0m \u001b[39m# self.scoring the return type is only known after calling\u001b[39;00m\n\u001b[0;32m    878\u001b[0m first_test_score \u001b[39m=\u001b[39m all_out[\u001b[39m0\u001b[39m][\u001b[39m\"\u001b[39m\u001b[39mtest_scores\u001b[39m\u001b[39m\"\u001b[39m]\n",
      "File \u001b[1;32mc:\\Users\\Tim\\AppData\\Local\\Programs\\Python\\Python311\\Lib\\site-packages\\sklearn\\model_selection\\_search.py:1388\u001b[0m, in \u001b[0;36mGridSearchCV._run_search\u001b[1;34m(self, evaluate_candidates)\u001b[0m\n\u001b[0;32m   1386\u001b[0m \u001b[39mdef\u001b[39;00m \u001b[39m_run_search\u001b[39m(\u001b[39mself\u001b[39m, evaluate_candidates):\n\u001b[0;32m   1387\u001b[0m \u001b[39m    \u001b[39m\u001b[39m\"\"\"Search all candidates in param_grid\"\"\"\u001b[39;00m\n\u001b[1;32m-> 1388\u001b[0m     evaluate_candidates(ParameterGrid(\u001b[39mself\u001b[39;49m\u001b[39m.\u001b[39;49mparam_grid))\n",
      "File \u001b[1;32mc:\\Users\\Tim\\AppData\\Local\\Programs\\Python\\Python311\\Lib\\site-packages\\sklearn\\model_selection\\_search.py:821\u001b[0m, in \u001b[0;36mBaseSearchCV.fit.<locals>.evaluate_candidates\u001b[1;34m(candidate_params, cv, more_results)\u001b[0m\n\u001b[0;32m    813\u001b[0m \u001b[39mif\u001b[39;00m \u001b[39mself\u001b[39m\u001b[39m.\u001b[39mverbose \u001b[39m>\u001b[39m \u001b[39m0\u001b[39m:\n\u001b[0;32m    814\u001b[0m     \u001b[39mprint\u001b[39m(\n\u001b[0;32m    815\u001b[0m         \u001b[39m\"\u001b[39m\u001b[39mFitting \u001b[39m\u001b[39m{0}\u001b[39;00m\u001b[39m folds for each of \u001b[39m\u001b[39m{1}\u001b[39;00m\u001b[39m candidates,\u001b[39m\u001b[39m\"\u001b[39m\n\u001b[0;32m    816\u001b[0m         \u001b[39m\"\u001b[39m\u001b[39m totalling \u001b[39m\u001b[39m{2}\u001b[39;00m\u001b[39m fits\u001b[39m\u001b[39m\"\u001b[39m\u001b[39m.\u001b[39mformat(\n\u001b[0;32m    817\u001b[0m             n_splits, n_candidates, n_candidates \u001b[39m*\u001b[39m n_splits\n\u001b[0;32m    818\u001b[0m         )\n\u001b[0;32m    819\u001b[0m     )\n\u001b[1;32m--> 821\u001b[0m out \u001b[39m=\u001b[39m parallel(\n\u001b[0;32m    822\u001b[0m     delayed(_fit_and_score)(\n\u001b[0;32m    823\u001b[0m         clone(base_estimator),\n\u001b[0;32m    824\u001b[0m         X,\n\u001b[0;32m    825\u001b[0m         y,\n\u001b[0;32m    826\u001b[0m         train\u001b[39m=\u001b[39;49mtrain,\n\u001b[0;32m    827\u001b[0m         test\u001b[39m=\u001b[39;49mtest,\n\u001b[0;32m    828\u001b[0m         parameters\u001b[39m=\u001b[39;49mparameters,\n\u001b[0;32m    829\u001b[0m         split_progress\u001b[39m=\u001b[39;49m(split_idx, n_splits),\n\u001b[0;32m    830\u001b[0m         candidate_progress\u001b[39m=\u001b[39;49m(cand_idx, n_candidates),\n\u001b[0;32m    831\u001b[0m         \u001b[39m*\u001b[39;49m\u001b[39m*\u001b[39;49mfit_and_score_kwargs,\n\u001b[0;32m    832\u001b[0m     )\n\u001b[0;32m    833\u001b[0m     \u001b[39mfor\u001b[39;49;00m (cand_idx, parameters), (split_idx, (train, test)) \u001b[39min\u001b[39;49;00m product(\n\u001b[0;32m    834\u001b[0m         \u001b[39menumerate\u001b[39;49m(candidate_params), \u001b[39menumerate\u001b[39;49m(cv\u001b[39m.\u001b[39;49msplit(X, y, groups))\n\u001b[0;32m    835\u001b[0m     )\n\u001b[0;32m    836\u001b[0m )\n\u001b[0;32m    838\u001b[0m \u001b[39mif\u001b[39;00m \u001b[39mlen\u001b[39m(out) \u001b[39m<\u001b[39m \u001b[39m1\u001b[39m:\n\u001b[0;32m    839\u001b[0m     \u001b[39mraise\u001b[39;00m \u001b[39mValueError\u001b[39;00m(\n\u001b[0;32m    840\u001b[0m         \u001b[39m\"\u001b[39m\u001b[39mNo fits were performed. \u001b[39m\u001b[39m\"\u001b[39m\n\u001b[0;32m    841\u001b[0m         \u001b[39m\"\u001b[39m\u001b[39mWas the CV iterator empty? \u001b[39m\u001b[39m\"\u001b[39m\n\u001b[0;32m    842\u001b[0m         \u001b[39m\"\u001b[39m\u001b[39mWere there no candidates?\u001b[39m\u001b[39m\"\u001b[39m\n\u001b[0;32m    843\u001b[0m     )\n",
      "File \u001b[1;32mc:\\Users\\Tim\\AppData\\Local\\Programs\\Python\\Python311\\Lib\\site-packages\\sklearn\\utils\\parallel.py:63\u001b[0m, in \u001b[0;36mParallel.__call__\u001b[1;34m(self, iterable)\u001b[0m\n\u001b[0;32m     58\u001b[0m config \u001b[39m=\u001b[39m get_config()\n\u001b[0;32m     59\u001b[0m iterable_with_config \u001b[39m=\u001b[39m (\n\u001b[0;32m     60\u001b[0m     (_with_config(delayed_func, config), args, kwargs)\n\u001b[0;32m     61\u001b[0m     \u001b[39mfor\u001b[39;00m delayed_func, args, kwargs \u001b[39min\u001b[39;00m iterable\n\u001b[0;32m     62\u001b[0m )\n\u001b[1;32m---> 63\u001b[0m \u001b[39mreturn\u001b[39;00m \u001b[39msuper\u001b[39;49m()\u001b[39m.\u001b[39;49m\u001b[39m__call__\u001b[39;49m(iterable_with_config)\n",
      "File \u001b[1;32mc:\\Users\\Tim\\AppData\\Local\\Programs\\Python\\Python311\\Lib\\site-packages\\joblib\\parallel.py:1098\u001b[0m, in \u001b[0;36mParallel.__call__\u001b[1;34m(self, iterable)\u001b[0m\n\u001b[0;32m   1095\u001b[0m     \u001b[39mself\u001b[39m\u001b[39m.\u001b[39m_iterating \u001b[39m=\u001b[39m \u001b[39mFalse\u001b[39;00m\n\u001b[0;32m   1097\u001b[0m \u001b[39mwith\u001b[39;00m \u001b[39mself\u001b[39m\u001b[39m.\u001b[39m_backend\u001b[39m.\u001b[39mretrieval_context():\n\u001b[1;32m-> 1098\u001b[0m     \u001b[39mself\u001b[39;49m\u001b[39m.\u001b[39;49mretrieve()\n\u001b[0;32m   1099\u001b[0m \u001b[39m# Make sure that we get a last message telling us we are done\u001b[39;00m\n\u001b[0;32m   1100\u001b[0m elapsed_time \u001b[39m=\u001b[39m time\u001b[39m.\u001b[39mtime() \u001b[39m-\u001b[39m \u001b[39mself\u001b[39m\u001b[39m.\u001b[39m_start_time\n",
      "File \u001b[1;32mc:\\Users\\Tim\\AppData\\Local\\Programs\\Python\\Python311\\Lib\\site-packages\\joblib\\parallel.py:975\u001b[0m, in \u001b[0;36mParallel.retrieve\u001b[1;34m(self)\u001b[0m\n\u001b[0;32m    973\u001b[0m \u001b[39mtry\u001b[39;00m:\n\u001b[0;32m    974\u001b[0m     \u001b[39mif\u001b[39;00m \u001b[39mgetattr\u001b[39m(\u001b[39mself\u001b[39m\u001b[39m.\u001b[39m_backend, \u001b[39m'\u001b[39m\u001b[39msupports_timeout\u001b[39m\u001b[39m'\u001b[39m, \u001b[39mFalse\u001b[39;00m):\n\u001b[1;32m--> 975\u001b[0m         \u001b[39mself\u001b[39m\u001b[39m.\u001b[39m_output\u001b[39m.\u001b[39mextend(job\u001b[39m.\u001b[39;49mget(timeout\u001b[39m=\u001b[39;49m\u001b[39mself\u001b[39;49m\u001b[39m.\u001b[39;49mtimeout))\n\u001b[0;32m    976\u001b[0m     \u001b[39melse\u001b[39;00m:\n\u001b[0;32m    977\u001b[0m         \u001b[39mself\u001b[39m\u001b[39m.\u001b[39m_output\u001b[39m.\u001b[39mextend(job\u001b[39m.\u001b[39mget())\n",
      "File \u001b[1;32mc:\\Users\\Tim\\AppData\\Local\\Programs\\Python\\Python311\\Lib\\site-packages\\joblib\\_parallel_backends.py:567\u001b[0m, in \u001b[0;36mLokyBackend.wrap_future_result\u001b[1;34m(future, timeout)\u001b[0m\n\u001b[0;32m    564\u001b[0m \u001b[39m\u001b[39m\u001b[39m\"\"\"Wrapper for Future.result to implement the same behaviour as\u001b[39;00m\n\u001b[0;32m    565\u001b[0m \u001b[39mAsyncResults.get from multiprocessing.\"\"\"\u001b[39;00m\n\u001b[0;32m    566\u001b[0m \u001b[39mtry\u001b[39;00m:\n\u001b[1;32m--> 567\u001b[0m     \u001b[39mreturn\u001b[39;00m future\u001b[39m.\u001b[39;49mresult(timeout\u001b[39m=\u001b[39;49mtimeout)\n\u001b[0;32m    568\u001b[0m \u001b[39mexcept\u001b[39;00m CfTimeoutError \u001b[39mas\u001b[39;00m e:\n\u001b[0;32m    569\u001b[0m     \u001b[39mraise\u001b[39;00m \u001b[39mTimeoutError\u001b[39;00m \u001b[39mfrom\u001b[39;00m \u001b[39me\u001b[39;00m\n",
      "File \u001b[1;32mc:\\Users\\Tim\\AppData\\Local\\Programs\\Python\\Python311\\Lib\\concurrent\\futures\\_base.py:451\u001b[0m, in \u001b[0;36mFuture.result\u001b[1;34m(self, timeout)\u001b[0m\n\u001b[0;32m    448\u001b[0m \u001b[39melif\u001b[39;00m \u001b[39mself\u001b[39m\u001b[39m.\u001b[39m_state \u001b[39m==\u001b[39m FINISHED:\n\u001b[0;32m    449\u001b[0m     \u001b[39mreturn\u001b[39;00m \u001b[39mself\u001b[39m\u001b[39m.\u001b[39m__get_result()\n\u001b[1;32m--> 451\u001b[0m \u001b[39mself\u001b[39;49m\u001b[39m.\u001b[39;49m_condition\u001b[39m.\u001b[39;49mwait(timeout)\n\u001b[0;32m    453\u001b[0m \u001b[39mif\u001b[39;00m \u001b[39mself\u001b[39m\u001b[39m.\u001b[39m_state \u001b[39min\u001b[39;00m [CANCELLED, CANCELLED_AND_NOTIFIED]:\n\u001b[0;32m    454\u001b[0m     \u001b[39mraise\u001b[39;00m CancelledError()\n",
      "File \u001b[1;32mc:\\Users\\Tim\\AppData\\Local\\Programs\\Python\\Python311\\Lib\\threading.py:320\u001b[0m, in \u001b[0;36mCondition.wait\u001b[1;34m(self, timeout)\u001b[0m\n\u001b[0;32m    318\u001b[0m \u001b[39mtry\u001b[39;00m:    \u001b[39m# restore state no matter what (e.g., KeyboardInterrupt)\u001b[39;00m\n\u001b[0;32m    319\u001b[0m     \u001b[39mif\u001b[39;00m timeout \u001b[39mis\u001b[39;00m \u001b[39mNone\u001b[39;00m:\n\u001b[1;32m--> 320\u001b[0m         waiter\u001b[39m.\u001b[39;49macquire()\n\u001b[0;32m    321\u001b[0m         gotit \u001b[39m=\u001b[39m \u001b[39mTrue\u001b[39;00m\n\u001b[0;32m    322\u001b[0m     \u001b[39melse\u001b[39;00m:\n",
      "\u001b[1;31mKeyboardInterrupt\u001b[0m: "
     ]
    }
   ],
   "source": [
    "grid_search.fit(X_train_vect_avg, y_train.values.ravel())"
   ]
  },
  {
   "cell_type": "code",
   "execution_count": null,
   "metadata": {},
   "outputs": [
    {
     "data": {
      "text/plain": [
       "0.8833959899749372"
      ]
     },
     "execution_count": 55,
     "metadata": {},
     "output_type": "execute_result"
    }
   ],
   "source": [
    "grid_search.best_score_"
   ]
  },
  {
   "cell_type": "code",
   "execution_count": null,
   "metadata": {},
   "outputs": [
    {
     "data": {
      "text/html": [
       "<style>#sk-container-id-2 {color: black;background-color: white;}#sk-container-id-2 pre{padding: 0;}#sk-container-id-2 div.sk-toggleable {background-color: white;}#sk-container-id-2 label.sk-toggleable__label {cursor: pointer;display: block;width: 100%;margin-bottom: 0;padding: 0.3em;box-sizing: border-box;text-align: center;}#sk-container-id-2 label.sk-toggleable__label-arrow:before {content: \"▸\";float: left;margin-right: 0.25em;color: #696969;}#sk-container-id-2 label.sk-toggleable__label-arrow:hover:before {color: black;}#sk-container-id-2 div.sk-estimator:hover label.sk-toggleable__label-arrow:before {color: black;}#sk-container-id-2 div.sk-toggleable__content {max-height: 0;max-width: 0;overflow: hidden;text-align: left;background-color: #f0f8ff;}#sk-container-id-2 div.sk-toggleable__content pre {margin: 0.2em;color: black;border-radius: 0.25em;background-color: #f0f8ff;}#sk-container-id-2 input.sk-toggleable__control:checked~div.sk-toggleable__content {max-height: 200px;max-width: 100%;overflow: auto;}#sk-container-id-2 input.sk-toggleable__control:checked~label.sk-toggleable__label-arrow:before {content: \"▾\";}#sk-container-id-2 div.sk-estimator input.sk-toggleable__control:checked~label.sk-toggleable__label {background-color: #d4ebff;}#sk-container-id-2 div.sk-label input.sk-toggleable__control:checked~label.sk-toggleable__label {background-color: #d4ebff;}#sk-container-id-2 input.sk-hidden--visually {border: 0;clip: rect(1px 1px 1px 1px);clip: rect(1px, 1px, 1px, 1px);height: 1px;margin: -1px;overflow: hidden;padding: 0;position: absolute;width: 1px;}#sk-container-id-2 div.sk-estimator {font-family: monospace;background-color: #f0f8ff;border: 1px dotted black;border-radius: 0.25em;box-sizing: border-box;margin-bottom: 0.5em;}#sk-container-id-2 div.sk-estimator:hover {background-color: #d4ebff;}#sk-container-id-2 div.sk-parallel-item::after {content: \"\";width: 100%;border-bottom: 1px solid gray;flex-grow: 1;}#sk-container-id-2 div.sk-label:hover label.sk-toggleable__label {background-color: #d4ebff;}#sk-container-id-2 div.sk-serial::before {content: \"\";position: absolute;border-left: 1px solid gray;box-sizing: border-box;top: 0;bottom: 0;left: 50%;z-index: 0;}#sk-container-id-2 div.sk-serial {display: flex;flex-direction: column;align-items: center;background-color: white;padding-right: 0.2em;padding-left: 0.2em;position: relative;}#sk-container-id-2 div.sk-item {position: relative;z-index: 1;}#sk-container-id-2 div.sk-parallel {display: flex;align-items: stretch;justify-content: center;background-color: white;position: relative;}#sk-container-id-2 div.sk-item::before, #sk-container-id-2 div.sk-parallel-item::before {content: \"\";position: absolute;border-left: 1px solid gray;box-sizing: border-box;top: 0;bottom: 0;left: 50%;z-index: -1;}#sk-container-id-2 div.sk-parallel-item {display: flex;flex-direction: column;z-index: 1;position: relative;background-color: white;}#sk-container-id-2 div.sk-parallel-item:first-child::after {align-self: flex-end;width: 50%;}#sk-container-id-2 div.sk-parallel-item:last-child::after {align-self: flex-start;width: 50%;}#sk-container-id-2 div.sk-parallel-item:only-child::after {width: 0;}#sk-container-id-2 div.sk-dashed-wrapped {border: 1px dashed gray;margin: 0 0.4em 0.5em 0.4em;box-sizing: border-box;padding-bottom: 0.4em;background-color: white;}#sk-container-id-2 div.sk-label label {font-family: monospace;font-weight: bold;display: inline-block;line-height: 1.2em;}#sk-container-id-2 div.sk-label-container {text-align: center;}#sk-container-id-2 div.sk-container {/* jupyter's `normalize.less` sets `[hidden] { display: none; }` but bootstrap.min.css set `[hidden] { display: none !important; }` so we also need the `!important` here to be able to override the default hidden behavior on the sphinx rendered scikit-learn.org. See: https://github.com/scikit-learn/scikit-learn/issues/21755 */display: inline-block !important;position: relative;}#sk-container-id-2 div.sk-text-repr-fallback {display: none;}</style><div id=\"sk-container-id-2\" class=\"sk-top-container\"><div class=\"sk-text-repr-fallback\"><pre>RandomForestClassifier(max_depth=10, max_features=&#x27;log2&#x27;, min_samples_leaf=4,\n",
       "                       n_estimators=200)</pre><b>In a Jupyter environment, please rerun this cell to show the HTML representation or trust the notebook. <br />On GitHub, the HTML representation is unable to render, please try loading this page with nbviewer.org.</b></div><div class=\"sk-container\" hidden><div class=\"sk-item\"><div class=\"sk-estimator sk-toggleable\"><input class=\"sk-toggleable__control sk-hidden--visually\" id=\"sk-estimator-id-4\" type=\"checkbox\" checked><label for=\"sk-estimator-id-4\" class=\"sk-toggleable__label sk-toggleable__label-arrow\">RandomForestClassifier</label><div class=\"sk-toggleable__content\"><pre>RandomForestClassifier(max_depth=10, max_features=&#x27;log2&#x27;, min_samples_leaf=4,\n",
       "                       n_estimators=200)</pre></div></div></div></div></div>"
      ],
      "text/plain": [
       "RandomForestClassifier(max_depth=10, max_features='log2', min_samples_leaf=4,\n",
       "                       n_estimators=200)"
      ]
     },
     "execution_count": 59,
     "metadata": {},
     "output_type": "execute_result"
    }
   ],
   "source": [
    "from sklearn.ensemble import RandomForestClassifier\n",
    "\n",
    "best_params = grid_search.best_params_\n",
    "rf = RandomForestClassifier(**best_params)\n",
    "rf.fit(X_train_vect_avg, y_train.values.ravel())\n",
    "\n"
   ]
  },
  {
   "cell_type": "code",
   "execution_count": null,
   "metadata": {},
   "outputs": [
    {
     "name": "stdout",
     "output_type": "stream",
     "text": [
      "              precision    recall  f1-score   support\n",
      "\n",
      "           0       0.84      0.94      0.89        34\n",
      "           1       0.94      0.84      0.89        37\n",
      "\n",
      "    accuracy                           0.89        71\n",
      "   macro avg       0.89      0.89      0.89        71\n",
      "weighted avg       0.89      0.89      0.89        71\n",
      "\n"
     ]
    }
   ],
   "source": [
    "from sklearn.metrics import classification_report\n",
    "y_pred = rf.predict(X_test_vect_avg)\n",
    "report = classification_report(y_test.values.ravel(), y_pred)\n",
    "\n",
    "# Print the classification report\n",
    "print(report)\n"
   ]
  },
  {
   "cell_type": "code",
   "execution_count": null,
   "metadata": {},
   "outputs": [],
   "source": [
    "test_features = X_test_vect_avg\n",
    "test_labels = y_test.values.ravel()\n",
    "train_features = X_train_vect_avg\n",
    "train_labels = y_train.values.ravel()"
   ]
  },
  {
   "attachments": {},
   "cell_type": "markdown",
   "metadata": {},
   "source": [
    "Tuning SVM"
   ]
  },
  {
   "cell_type": "code",
   "execution_count": null,
   "metadata": {},
   "outputs": [
    {
     "data": {
      "text/html": [
       "<style>#sk-container-id-3 {color: black;background-color: white;}#sk-container-id-3 pre{padding: 0;}#sk-container-id-3 div.sk-toggleable {background-color: white;}#sk-container-id-3 label.sk-toggleable__label {cursor: pointer;display: block;width: 100%;margin-bottom: 0;padding: 0.3em;box-sizing: border-box;text-align: center;}#sk-container-id-3 label.sk-toggleable__label-arrow:before {content: \"▸\";float: left;margin-right: 0.25em;color: #696969;}#sk-container-id-3 label.sk-toggleable__label-arrow:hover:before {color: black;}#sk-container-id-3 div.sk-estimator:hover label.sk-toggleable__label-arrow:before {color: black;}#sk-container-id-3 div.sk-toggleable__content {max-height: 0;max-width: 0;overflow: hidden;text-align: left;background-color: #f0f8ff;}#sk-container-id-3 div.sk-toggleable__content pre {margin: 0.2em;color: black;border-radius: 0.25em;background-color: #f0f8ff;}#sk-container-id-3 input.sk-toggleable__control:checked~div.sk-toggleable__content {max-height: 200px;max-width: 100%;overflow: auto;}#sk-container-id-3 input.sk-toggleable__control:checked~label.sk-toggleable__label-arrow:before {content: \"▾\";}#sk-container-id-3 div.sk-estimator input.sk-toggleable__control:checked~label.sk-toggleable__label {background-color: #d4ebff;}#sk-container-id-3 div.sk-label input.sk-toggleable__control:checked~label.sk-toggleable__label {background-color: #d4ebff;}#sk-container-id-3 input.sk-hidden--visually {border: 0;clip: rect(1px 1px 1px 1px);clip: rect(1px, 1px, 1px, 1px);height: 1px;margin: -1px;overflow: hidden;padding: 0;position: absolute;width: 1px;}#sk-container-id-3 div.sk-estimator {font-family: monospace;background-color: #f0f8ff;border: 1px dotted black;border-radius: 0.25em;box-sizing: border-box;margin-bottom: 0.5em;}#sk-container-id-3 div.sk-estimator:hover {background-color: #d4ebff;}#sk-container-id-3 div.sk-parallel-item::after {content: \"\";width: 100%;border-bottom: 1px solid gray;flex-grow: 1;}#sk-container-id-3 div.sk-label:hover label.sk-toggleable__label {background-color: #d4ebff;}#sk-container-id-3 div.sk-serial::before {content: \"\";position: absolute;border-left: 1px solid gray;box-sizing: border-box;top: 0;bottom: 0;left: 50%;z-index: 0;}#sk-container-id-3 div.sk-serial {display: flex;flex-direction: column;align-items: center;background-color: white;padding-right: 0.2em;padding-left: 0.2em;position: relative;}#sk-container-id-3 div.sk-item {position: relative;z-index: 1;}#sk-container-id-3 div.sk-parallel {display: flex;align-items: stretch;justify-content: center;background-color: white;position: relative;}#sk-container-id-3 div.sk-item::before, #sk-container-id-3 div.sk-parallel-item::before {content: \"\";position: absolute;border-left: 1px solid gray;box-sizing: border-box;top: 0;bottom: 0;left: 50%;z-index: -1;}#sk-container-id-3 div.sk-parallel-item {display: flex;flex-direction: column;z-index: 1;position: relative;background-color: white;}#sk-container-id-3 div.sk-parallel-item:first-child::after {align-self: flex-end;width: 50%;}#sk-container-id-3 div.sk-parallel-item:last-child::after {align-self: flex-start;width: 50%;}#sk-container-id-3 div.sk-parallel-item:only-child::after {width: 0;}#sk-container-id-3 div.sk-dashed-wrapped {border: 1px dashed gray;margin: 0 0.4em 0.5em 0.4em;box-sizing: border-box;padding-bottom: 0.4em;background-color: white;}#sk-container-id-3 div.sk-label label {font-family: monospace;font-weight: bold;display: inline-block;line-height: 1.2em;}#sk-container-id-3 div.sk-label-container {text-align: center;}#sk-container-id-3 div.sk-container {/* jupyter's `normalize.less` sets `[hidden] { display: none; }` but bootstrap.min.css set `[hidden] { display: none !important; }` so we also need the `!important` here to be able to override the default hidden behavior on the sphinx rendered scikit-learn.org. See: https://github.com/scikit-learn/scikit-learn/issues/21755 */display: inline-block !important;position: relative;}#sk-container-id-3 div.sk-text-repr-fallback {display: none;}</style><div id=\"sk-container-id-3\" class=\"sk-top-container\"><div class=\"sk-text-repr-fallback\"><pre>GridSearchCV(cv=5, estimator=SVC(C=1), n_jobs=-1,\n",
       "             param_grid={&#x27;C&#x27;: (1, 4, 8, 16, 32), &#x27;kernel&#x27;: (&#x27;linear&#x27;, &#x27;rbf&#x27;)})</pre><b>In a Jupyter environment, please rerun this cell to show the HTML representation or trust the notebook. <br />On GitHub, the HTML representation is unable to render, please try loading this page with nbviewer.org.</b></div><div class=\"sk-container\" hidden><div class=\"sk-item sk-dashed-wrapped\"><div class=\"sk-label-container\"><div class=\"sk-label sk-toggleable\"><input class=\"sk-toggleable__control sk-hidden--visually\" id=\"sk-estimator-id-5\" type=\"checkbox\" ><label for=\"sk-estimator-id-5\" class=\"sk-toggleable__label sk-toggleable__label-arrow\">GridSearchCV</label><div class=\"sk-toggleable__content\"><pre>GridSearchCV(cv=5, estimator=SVC(C=1), n_jobs=-1,\n",
       "             param_grid={&#x27;C&#x27;: (1, 4, 8, 16, 32), &#x27;kernel&#x27;: (&#x27;linear&#x27;, &#x27;rbf&#x27;)})</pre></div></div></div><div class=\"sk-parallel\"><div class=\"sk-parallel-item\"><div class=\"sk-item\"><div class=\"sk-label-container\"><div class=\"sk-label sk-toggleable\"><input class=\"sk-toggleable__control sk-hidden--visually\" id=\"sk-estimator-id-6\" type=\"checkbox\" ><label for=\"sk-estimator-id-6\" class=\"sk-toggleable__label sk-toggleable__label-arrow\">estimator: SVC</label><div class=\"sk-toggleable__content\"><pre>SVC(C=1)</pre></div></div></div><div class=\"sk-serial\"><div class=\"sk-item\"><div class=\"sk-estimator sk-toggleable\"><input class=\"sk-toggleable__control sk-hidden--visually\" id=\"sk-estimator-id-7\" type=\"checkbox\" ><label for=\"sk-estimator-id-7\" class=\"sk-toggleable__label sk-toggleable__label-arrow\">SVC</label><div class=\"sk-toggleable__content\"><pre>SVC(C=1)</pre></div></div></div></div></div></div></div></div></div></div>"
      ],
      "text/plain": [
       "GridSearchCV(cv=5, estimator=SVC(C=1), n_jobs=-1,\n",
       "             param_grid={'C': (1, 4, 8, 16, 32), 'kernel': ('linear', 'rbf')})"
      ]
     },
     "execution_count": 61,
     "metadata": {},
     "output_type": "execute_result"
    }
   ],
   "source": [
    "from sklearn.model_selection import GridSearchCV\n",
    "\n",
    "parameters = {'kernel': ('linear', 'rbf'), 'C': (1,4,8,16,32)}\n",
    "\n",
    "svc = svm_model\n",
    "clf = GridSearchCV(svc, parameters, cv=5, n_jobs=-1) \n",
    "clf.fit(X_train_vect_avg, y_train.values.ravel())"
   ]
  },
  {
   "cell_type": "code",
   "execution_count": null,
   "metadata": {},
   "outputs": [
    {
     "name": "stdout",
     "output_type": "stream",
     "text": [
      "{'C': 8, 'kernel': 'rbf'}\n"
     ]
    }
   ],
   "source": [
    "#print(sorted(clf.cv_results_.keys()))\n",
    "print(clf.best_params_)"
   ]
  },
  {
   "cell_type": "code",
   "execution_count": null,
   "metadata": {},
   "outputs": [
    {
     "name": "stdout",
     "output_type": "stream",
     "text": [
      "1.0\n"
     ]
    }
   ],
   "source": [
    "print(clf.score(X_train_vect_avg, y_train.values.ravel()))"
   ]
  },
  {
   "cell_type": "code",
   "execution_count": null,
   "metadata": {},
   "outputs": [
    {
     "name": "stdout",
     "output_type": "stream",
     "text": [
      "Model-Evaluation for:  GridSearchCV(cv=5, estimator=SVC(C=1), n_jobs=-1,\n",
      "             param_grid={'C': (1, 4, 8, 16, 32), 'kernel': ('linear', 'rbf')})\n",
      "Precision: 0.889 / Recall: 0.865 / Accuracy: 0.873 / F1 Score: 0.877 \n"
     ]
    },
    {
     "data": {
      "image/png": "[encoded data removed]",
      "text/plain": [
       "<Figure size 400x400 with 2 Axes>"
      ]
     },
     "metadata": {},
     "output_type": "display_data"
    }
   ],
   "source": [
    "from sklearn.metrics import confusion_matrix\n",
    "from sklearn.metrics import ConfusionMatrixDisplay\n",
    "from sklearn.metrics import precision_score, recall_score\n",
    "import matplotlib.pyplot as plt\n",
    "\n",
    "model_evaluation = clf     #rf_model / svm_model\n",
    "\n",
    "\n",
    "y_pred=model_evaluation.predict(X_test_vect_avg)\n",
    "\n",
    "\n",
    "precision = precision_score(y_test, y_pred)\n",
    "recall = recall_score(y_test, y_pred)\n",
    "f1_score = 2 * (precision * recall) / (precision + recall)\n",
    "\n",
    "\n",
    "print(\"Model-Evaluation for: \", model_evaluation)\n",
    "print('Precision: {} / Recall: {} / Accuracy: {} / F1 Score: {} '.format(\n",
    "    round(precision, 3), round(recall, 3), round((y_pred==y_test).sum()/len(y_pred), 3), round(f1_score, 3)\n",
    "    ))\n",
    "\n",
    "\n",
    "\n",
    "fig, ax = plt.subplots(figsize=(4, 4))\n",
    "\n",
    "display = ConfusionMatrixDisplay.from_estimator(model_evaluation, X_train_vect_avg, y_train.values.ravel(), normalize=\"all\", ax=ax)\n"
   ]
  }
 ],
 "metadata": {
  "kernelspec": {
   "display_name": "Python 3",
   "language": "python",
   "name": "python3"
  },
  "language_info": {
   "codemirror_mode": {
    "name": "ipython",
    "version": 3
   },
   "file_extension": ".py",
   "mimetype": "text/x-python",
   "name": "python",
   "nbconvert_exporter": "python",
   "pygments_lexer": "ipython3",
   "version": "3.11.1"
  },
  "orig_nbformat": 4
 },
 "nbformat": 4,
 "nbformat_minor": 2
}
